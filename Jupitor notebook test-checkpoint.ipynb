{
 "cells": [
  {
   "cell_type": "code",
   "execution_count": 3,
   "metadata": {},
   "outputs": [],
   "source": [
    "import pandas as pd\n",
    "import numpy as np\n",
    "import matplotlib.pyplot as plt\n",
    "from matplotlib.animation import FuncAnimation\n",
    "\n"
   ]
  },
  {
   "cell_type": "code",
   "execution_count": 4,
   "metadata": {},
   "outputs": [
    {
     "name": "stdout",
     "output_type": "stream",
     "text": [
      "        DATE  YEAR  MONTH      DISTRICT   LAT   LON PRECTOT     PS  QV2M  \\\n",
      "0  1/31/1981  1981      1  Arghakhanchi  27.9  83.2   67.31  93.78  5.28   \n",
      "1  2/28/1981  1981      2  Arghakhanchi  27.9  83.2    3.37  93.52  5.13   \n",
      "2  3/31/1981  1981      3  Arghakhanchi  27.9  83.2   26.02  93.40  5.91   \n",
      "3  4/30/1981  1981      4  Arghakhanchi  27.9  83.2   46.15  93.03  6.52   \n",
      "4  5/31/1981  1981      5  Arghakhanchi  27.9  83.2   69.45  92.75  9.95   \n",
      "\n",
      "    RH2M  ...  T2M_RANGE     TS  WS10M  WS10M_MAX  WS10M_MIN  WS10M_RANGE  \\\n",
      "0  53.09  ...      10.03  11.19   2.01       3.39       0.81         2.59   \n",
      "1  40.88  ...      13.08  15.10   2.58       4.88       0.95         3.94   \n",
      "2  35.84  ...      13.52  20.58   2.73       4.67       1.02         3.65   \n",
      "3  29.81  ...      15.03  25.63   2.89       4.78       1.07         3.72   \n",
      "4  37.25  ...      13.43  29.99   2.69       4.40       0.93         3.47   \n",
      "\n",
      "   WS50M  WS50M_MAX  WS50M_MIN  WS50M_RANGE  \n",
      "0   2.70       4.22       1.06         3.16  \n",
      "1   3.51       5.62       1.09         4.53  \n",
      "2   3.73       5.72       1.38         4.34  \n",
      "3   3.82       5.66       1.35         4.31  \n",
      "4   3.52       5.29       1.30         4.00  \n",
      "\n",
      "[5 rows x 24 columns]\n"
     ]
    }
   ],
   "source": [
    "CD = pd.read_csv(\"E:\\Python test\\climate_data_nepal_district_wise_monthly.csv\")\n",
    "print(CD.head(5))"
   ]
  },
  {
   "cell_type": "code",
   "execution_count": 5,
   "metadata": {},
   "outputs": [
    {
     "data": {
      "text/html": [
       "<div>\n",
       "<style scoped>\n",
       "    .dataframe tbody tr th:only-of-type {\n",
       "        vertical-align: middle;\n",
       "    }\n",
       "\n",
       "    .dataframe tbody tr th {\n",
       "        vertical-align: top;\n",
       "    }\n",
       "\n",
       "    .dataframe thead th {\n",
       "        text-align: right;\n",
       "    }\n",
       "</style>\n",
       "<table border=\"1\" class=\"dataframe\">\n",
       "  <thead>\n",
       "    <tr style=\"text-align: right;\">\n",
       "      <th></th>\n",
       "      <th>YEAR</th>\n",
       "      <th>MONTH</th>\n",
       "      <th>LAT</th>\n",
       "      <th>LON</th>\n",
       "      <th>PS</th>\n",
       "      <th>QV2M</th>\n",
       "      <th>RH2M</th>\n",
       "      <th>T2M</th>\n",
       "      <th>T2MWET</th>\n",
       "      <th>T2M_MAX</th>\n",
       "      <th>...</th>\n",
       "      <th>T2M_RANGE</th>\n",
       "      <th>TS</th>\n",
       "      <th>WS10M</th>\n",
       "      <th>WS10M_MAX</th>\n",
       "      <th>WS10M_MIN</th>\n",
       "      <th>WS10M_RANGE</th>\n",
       "      <th>WS50M</th>\n",
       "      <th>WS50M_MAX</th>\n",
       "      <th>WS50M_MIN</th>\n",
       "      <th>WS50M_RANGE</th>\n",
       "    </tr>\n",
       "  </thead>\n",
       "  <tbody>\n",
       "    <tr>\n",
       "      <th>count</th>\n",
       "      <td>29016.000000</td>\n",
       "      <td>29016.000000</td>\n",
       "      <td>29016.000000</td>\n",
       "      <td>29016.000000</td>\n",
       "      <td>29016.000000</td>\n",
       "      <td>29016.000000</td>\n",
       "      <td>29016.000000</td>\n",
       "      <td>29016.000000</td>\n",
       "      <td>29016.000000</td>\n",
       "      <td>29016.000000</td>\n",
       "      <td>...</td>\n",
       "      <td>29016.000000</td>\n",
       "      <td>29016.000000</td>\n",
       "      <td>29016.000000</td>\n",
       "      <td>29016.000000</td>\n",
       "      <td>29016.000000</td>\n",
       "      <td>29016.000000</td>\n",
       "      <td>29016.000000</td>\n",
       "      <td>29016.000000</td>\n",
       "      <td>29016.000000</td>\n",
       "      <td>29016.000000</td>\n",
       "    </tr>\n",
       "    <tr>\n",
       "      <th>mean</th>\n",
       "      <td>2000.000000</td>\n",
       "      <td>6.500000</td>\n",
       "      <td>27.970645</td>\n",
       "      <td>84.273226</td>\n",
       "      <td>82.903742</td>\n",
       "      <td>8.465428</td>\n",
       "      <td>55.560993</td>\n",
       "      <td>15.795138</td>\n",
       "      <td>5.382304</td>\n",
       "      <td>21.844415</td>\n",
       "      <td>...</td>\n",
       "      <td>10.810601</td>\n",
       "      <td>15.515834</td>\n",
       "      <td>2.373433</td>\n",
       "      <td>4.675816</td>\n",
       "      <td>0.667401</td>\n",
       "      <td>4.008437</td>\n",
       "      <td>2.732222</td>\n",
       "      <td>4.646797</td>\n",
       "      <td>0.924362</td>\n",
       "      <td>3.722418</td>\n",
       "    </tr>\n",
       "    <tr>\n",
       "      <th>std</th>\n",
       "      <td>11.254823</td>\n",
       "      <td>3.452112</td>\n",
       "      <td>0.880253</td>\n",
       "      <td>2.198102</td>\n",
       "      <td>10.713284</td>\n",
       "      <td>5.217317</td>\n",
       "      <td>20.731268</td>\n",
       "      <td>9.044101</td>\n",
       "      <td>10.414402</td>\n",
       "      <td>8.645676</td>\n",
       "      <td>...</td>\n",
       "      <td>2.812717</td>\n",
       "      <td>9.774112</td>\n",
       "      <td>0.493615</td>\n",
       "      <td>1.014603</td>\n",
       "      <td>0.321686</td>\n",
       "      <td>1.009005</td>\n",
       "      <td>0.742617</td>\n",
       "      <td>1.068191</td>\n",
       "      <td>0.515904</td>\n",
       "      <td>0.867557</td>\n",
       "    </tr>\n",
       "    <tr>\n",
       "      <th>min</th>\n",
       "      <td>1981.000000</td>\n",
       "      <td>1.000000</td>\n",
       "      <td>26.500000</td>\n",
       "      <td>80.200000</td>\n",
       "      <td>55.460000</td>\n",
       "      <td>0.750000</td>\n",
       "      <td>8.510000</td>\n",
       "      <td>-17.810000</td>\n",
       "      <td>-22.830000</td>\n",
       "      <td>-10.980000</td>\n",
       "      <td>...</td>\n",
       "      <td>4.610000</td>\n",
       "      <td>-22.780000</td>\n",
       "      <td>1.380000</td>\n",
       "      <td>2.220000</td>\n",
       "      <td>0.180000</td>\n",
       "      <td>1.630000</td>\n",
       "      <td>1.430000</td>\n",
       "      <td>2.580000</td>\n",
       "      <td>0.200000</td>\n",
       "      <td>1.750000</td>\n",
       "    </tr>\n",
       "    <tr>\n",
       "      <th>25%</th>\n",
       "      <td>1990.000000</td>\n",
       "      <td>3.750000</td>\n",
       "      <td>27.300000</td>\n",
       "      <td>82.350000</td>\n",
       "      <td>77.700000</td>\n",
       "      <td>4.080000</td>\n",
       "      <td>38.800000</td>\n",
       "      <td>10.027500</td>\n",
       "      <td>-2.440000</td>\n",
       "      <td>16.570000</td>\n",
       "      <td>...</td>\n",
       "      <td>8.560000</td>\n",
       "      <td>9.240000</td>\n",
       "      <td>1.980000</td>\n",
       "      <td>3.950000</td>\n",
       "      <td>0.430000</td>\n",
       "      <td>3.270000</td>\n",
       "      <td>2.210000</td>\n",
       "      <td>3.860000</td>\n",
       "      <td>0.550000</td>\n",
       "      <td>3.070000</td>\n",
       "    </tr>\n",
       "    <tr>\n",
       "      <th>50%</th>\n",
       "      <td>2000.000000</td>\n",
       "      <td>6.500000</td>\n",
       "      <td>27.950000</td>\n",
       "      <td>84.300000</td>\n",
       "      <td>83.725000</td>\n",
       "      <td>6.730000</td>\n",
       "      <td>52.670000</td>\n",
       "      <td>16.660000</td>\n",
       "      <td>4.580000</td>\n",
       "      <td>22.510000</td>\n",
       "      <td>...</td>\n",
       "      <td>11.170000</td>\n",
       "      <td>16.400000</td>\n",
       "      <td>2.330000</td>\n",
       "      <td>4.580000</td>\n",
       "      <td>0.590000</td>\n",
       "      <td>3.920000</td>\n",
       "      <td>2.590000</td>\n",
       "      <td>4.500000</td>\n",
       "      <td>0.780000</td>\n",
       "      <td>3.560000</td>\n",
       "    </tr>\n",
       "    <tr>\n",
       "      <th>75%</th>\n",
       "      <td>2010.000000</td>\n",
       "      <td>9.250000</td>\n",
       "      <td>28.600000</td>\n",
       "      <td>85.900000</td>\n",
       "      <td>92.790000</td>\n",
       "      <td>12.870000</td>\n",
       "      <td>74.830000</td>\n",
       "      <td>22.390000</td>\n",
       "      <td>14.330000</td>\n",
       "      <td>27.930000</td>\n",
       "      <td>...</td>\n",
       "      <td>12.910000</td>\n",
       "      <td>22.640000</td>\n",
       "      <td>2.690000</td>\n",
       "      <td>5.310000</td>\n",
       "      <td>0.830000</td>\n",
       "      <td>4.680000</td>\n",
       "      <td>3.130000</td>\n",
       "      <td>5.240000</td>\n",
       "      <td>1.150000</td>\n",
       "      <td>4.260000</td>\n",
       "    </tr>\n",
       "    <tr>\n",
       "      <th>max</th>\n",
       "      <td>2019.000000</td>\n",
       "      <td>12.000000</td>\n",
       "      <td>30.000000</td>\n",
       "      <td>88.000000</td>\n",
       "      <td>99.780000</td>\n",
       "      <td>21.700000</td>\n",
       "      <td>94.820000</td>\n",
       "      <td>35.590000</td>\n",
       "      <td>26.090000</td>\n",
       "      <td>43.100000</td>\n",
       "      <td>...</td>\n",
       "      <td>18.990000</td>\n",
       "      <td>38.110000</td>\n",
       "      <td>5.840000</td>\n",
       "      <td>10.850000</td>\n",
       "      <td>3.100000</td>\n",
       "      <td>8.480000</td>\n",
       "      <td>7.430000</td>\n",
       "      <td>11.890000</td>\n",
       "      <td>4.460000</td>\n",
       "      <td>8.410000</td>\n",
       "    </tr>\n",
       "  </tbody>\n",
       "</table>\n",
       "<p>8 rows × 21 columns</p>\n",
       "</div>"
      ],
      "text/plain": [
       "               YEAR         MONTH           LAT           LON            PS  \\\n",
       "count  29016.000000  29016.000000  29016.000000  29016.000000  29016.000000   \n",
       "mean    2000.000000      6.500000     27.970645     84.273226     82.903742   \n",
       "std       11.254823      3.452112      0.880253      2.198102     10.713284   \n",
       "min     1981.000000      1.000000     26.500000     80.200000     55.460000   \n",
       "25%     1990.000000      3.750000     27.300000     82.350000     77.700000   \n",
       "50%     2000.000000      6.500000     27.950000     84.300000     83.725000   \n",
       "75%     2010.000000      9.250000     28.600000     85.900000     92.790000   \n",
       "max     2019.000000     12.000000     30.000000     88.000000     99.780000   \n",
       "\n",
       "               QV2M          RH2M           T2M        T2MWET       T2M_MAX  \\\n",
       "count  29016.000000  29016.000000  29016.000000  29016.000000  29016.000000   \n",
       "mean       8.465428     55.560993     15.795138      5.382304     21.844415   \n",
       "std        5.217317     20.731268      9.044101     10.414402      8.645676   \n",
       "min        0.750000      8.510000    -17.810000    -22.830000    -10.980000   \n",
       "25%        4.080000     38.800000     10.027500     -2.440000     16.570000   \n",
       "50%        6.730000     52.670000     16.660000      4.580000     22.510000   \n",
       "75%       12.870000     74.830000     22.390000     14.330000     27.930000   \n",
       "max       21.700000     94.820000     35.590000     26.090000     43.100000   \n",
       "\n",
       "       ...     T2M_RANGE            TS         WS10M     WS10M_MAX  \\\n",
       "count  ...  29016.000000  29016.000000  29016.000000  29016.000000   \n",
       "mean   ...     10.810601     15.515834      2.373433      4.675816   \n",
       "std    ...      2.812717      9.774112      0.493615      1.014603   \n",
       "min    ...      4.610000    -22.780000      1.380000      2.220000   \n",
       "25%    ...      8.560000      9.240000      1.980000      3.950000   \n",
       "50%    ...     11.170000     16.400000      2.330000      4.580000   \n",
       "75%    ...     12.910000     22.640000      2.690000      5.310000   \n",
       "max    ...     18.990000     38.110000      5.840000     10.850000   \n",
       "\n",
       "          WS10M_MIN   WS10M_RANGE         WS50M     WS50M_MAX     WS50M_MIN  \\\n",
       "count  29016.000000  29016.000000  29016.000000  29016.000000  29016.000000   \n",
       "mean       0.667401      4.008437      2.732222      4.646797      0.924362   \n",
       "std        0.321686      1.009005      0.742617      1.068191      0.515904   \n",
       "min        0.180000      1.630000      1.430000      2.580000      0.200000   \n",
       "25%        0.430000      3.270000      2.210000      3.860000      0.550000   \n",
       "50%        0.590000      3.920000      2.590000      4.500000      0.780000   \n",
       "75%        0.830000      4.680000      3.130000      5.240000      1.150000   \n",
       "max        3.100000      8.480000      7.430000     11.890000      4.460000   \n",
       "\n",
       "        WS50M_RANGE  \n",
       "count  29016.000000  \n",
       "mean       3.722418  \n",
       "std        0.867557  \n",
       "min        1.750000  \n",
       "25%        3.070000  \n",
       "50%        3.560000  \n",
       "75%        4.260000  \n",
       "max        8.410000  \n",
       "\n",
       "[8 rows x 21 columns]"
      ]
     },
     "execution_count": 5,
     "metadata": {},
     "output_type": "execute_result"
    }
   ],
   "source": [
    "CD.describe()###To get the describtives stat of python "
   ]
  },
  {
   "cell_type": "code",
   "execution_count": 9,
   "metadata": {},
   "outputs": [
    {
     "data": {
      "text/html": [
       "<div>\n",
       "<style scoped>\n",
       "    .dataframe tbody tr th:only-of-type {\n",
       "        vertical-align: middle;\n",
       "    }\n",
       "\n",
       "    .dataframe tbody tr th {\n",
       "        vertical-align: top;\n",
       "    }\n",
       "\n",
       "    .dataframe thead th {\n",
       "        text-align: right;\n",
       "    }\n",
       "</style>\n",
       "<table border=\"1\" class=\"dataframe\">\n",
       "  <thead>\n",
       "    <tr style=\"text-align: right;\">\n",
       "      <th></th>\n",
       "      <th>DATE</th>\n",
       "      <th>YEAR</th>\n",
       "      <th>MONTH</th>\n",
       "      <th>DISTRICT</th>\n",
       "      <th>LAT</th>\n",
       "      <th>LON</th>\n",
       "      <th>PRECTOT</th>\n",
       "      <th>PS</th>\n",
       "      <th>QV2M</th>\n",
       "      <th>RH2M</th>\n",
       "      <th>...</th>\n",
       "      <th>T2M_RANGE</th>\n",
       "      <th>TS</th>\n",
       "      <th>WS10M</th>\n",
       "      <th>WS10M_MAX</th>\n",
       "      <th>WS10M_MIN</th>\n",
       "      <th>WS10M_RANGE</th>\n",
       "      <th>WS50M</th>\n",
       "      <th>WS50M_MAX</th>\n",
       "      <th>WS50M_MIN</th>\n",
       "      <th>WS50M_RANGE</th>\n",
       "    </tr>\n",
       "  </thead>\n",
       "  <tbody>\n",
       "    <tr>\n",
       "      <th>0</th>\n",
       "      <td>1/31/1981</td>\n",
       "      <td>1981</td>\n",
       "      <td>1</td>\n",
       "      <td>Arghakhanchi</td>\n",
       "      <td>27.90</td>\n",
       "      <td>83.20</td>\n",
       "      <td>67.31</td>\n",
       "      <td>93.78</td>\n",
       "      <td>5.28</td>\n",
       "      <td>53.09</td>\n",
       "      <td>...</td>\n",
       "      <td>10.03</td>\n",
       "      <td>11.19</td>\n",
       "      <td>2.01</td>\n",
       "      <td>3.39</td>\n",
       "      <td>0.81</td>\n",
       "      <td>2.59</td>\n",
       "      <td>2.70</td>\n",
       "      <td>4.22</td>\n",
       "      <td>1.06</td>\n",
       "      <td>3.16</td>\n",
       "    </tr>\n",
       "    <tr>\n",
       "      <th>7764</th>\n",
       "      <td>1/31/2004</td>\n",
       "      <td>2004</td>\n",
       "      <td>1</td>\n",
       "      <td>Dolkha</td>\n",
       "      <td>27.60</td>\n",
       "      <td>86.20</td>\n",
       "      <td>12.27</td>\n",
       "      <td>70.51</td>\n",
       "      <td>2.50</td>\n",
       "      <td>48.06</td>\n",
       "      <td>...</td>\n",
       "      <td>11.27</td>\n",
       "      <td>-2.83</td>\n",
       "      <td>2.03</td>\n",
       "      <td>5.05</td>\n",
       "      <td>0.46</td>\n",
       "      <td>4.59</td>\n",
       "      <td>2.03</td>\n",
       "      <td>4.47</td>\n",
       "      <td>0.54</td>\n",
       "      <td>3.93</td>\n",
       "    </tr>\n",
       "    <tr>\n",
       "      <th>3252</th>\n",
       "      <td>1/31/2018</td>\n",
       "      <td>2018</td>\n",
       "      <td>1</td>\n",
       "      <td>Bardiya</td>\n",
       "      <td>28.45</td>\n",
       "      <td>81.30</td>\n",
       "      <td>0.18</td>\n",
       "      <td>95.20</td>\n",
       "      <td>3.81</td>\n",
       "      <td>36.69</td>\n",
       "      <td>...</td>\n",
       "      <td>13.57</td>\n",
       "      <td>11.48</td>\n",
       "      <td>2.10</td>\n",
       "      <td>3.86</td>\n",
       "      <td>0.66</td>\n",
       "      <td>3.20</td>\n",
       "      <td>2.78</td>\n",
       "      <td>4.46</td>\n",
       "      <td>0.88</td>\n",
       "      <td>3.60</td>\n",
       "    </tr>\n",
       "    <tr>\n",
       "      <th>22176</th>\n",
       "      <td>1/31/1996</td>\n",
       "      <td>1996</td>\n",
       "      <td>1</td>\n",
       "      <td>Rukum</td>\n",
       "      <td>28.65</td>\n",
       "      <td>82.35</td>\n",
       "      <td>30.41</td>\n",
       "      <td>74.73</td>\n",
       "      <td>2.37</td>\n",
       "      <td>40.10</td>\n",
       "      <td>...</td>\n",
       "      <td>11.64</td>\n",
       "      <td>-0.38</td>\n",
       "      <td>2.30</td>\n",
       "      <td>4.79</td>\n",
       "      <td>0.82</td>\n",
       "      <td>3.97</td>\n",
       "      <td>2.53</td>\n",
       "      <td>4.54</td>\n",
       "      <td>1.02</td>\n",
       "      <td>3.52</td>\n",
       "    </tr>\n",
       "    <tr>\n",
       "      <th>26964</th>\n",
       "      <td>1/31/2005</td>\n",
       "      <td>2005</td>\n",
       "      <td>1</td>\n",
       "      <td>Syangja</td>\n",
       "      <td>28.00</td>\n",
       "      <td>83.85</td>\n",
       "      <td>41.78</td>\n",
       "      <td>86.31</td>\n",
       "      <td>4.39</td>\n",
       "      <td>52.31</td>\n",
       "      <td>...</td>\n",
       "      <td>10.18</td>\n",
       "      <td>7.36</td>\n",
       "      <td>1.79</td>\n",
       "      <td>3.56</td>\n",
       "      <td>0.50</td>\n",
       "      <td>3.07</td>\n",
       "      <td>2.13</td>\n",
       "      <td>3.72</td>\n",
       "      <td>0.63</td>\n",
       "      <td>3.09</td>\n",
       "    </tr>\n",
       "    <tr>\n",
       "      <th>...</th>\n",
       "      <td>...</td>\n",
       "      <td>...</td>\n",
       "      <td>...</td>\n",
       "      <td>...</td>\n",
       "      <td>...</td>\n",
       "      <td>...</td>\n",
       "      <td>...</td>\n",
       "      <td>...</td>\n",
       "      <td>...</td>\n",
       "      <td>...</td>\n",
       "      <td>...</td>\n",
       "      <td>...</td>\n",
       "      <td>...</td>\n",
       "      <td>...</td>\n",
       "      <td>...</td>\n",
       "      <td>...</td>\n",
       "      <td>...</td>\n",
       "      <td>...</td>\n",
       "      <td>...</td>\n",
       "      <td>...</td>\n",
       "      <td>...</td>\n",
       "    </tr>\n",
       "    <tr>\n",
       "      <th>17831</th>\n",
       "      <td>12/31/1984</td>\n",
       "      <td>1984</td>\n",
       "      <td>12</td>\n",
       "      <td>Myagdi</td>\n",
       "      <td>28.40</td>\n",
       "      <td>83.60</td>\n",
       "      <td>4.61</td>\n",
       "      <td>79.32</td>\n",
       "      <td>3.31</td>\n",
       "      <td>42.00</td>\n",
       "      <td>...</td>\n",
       "      <td>10.48</td>\n",
       "      <td>3.75</td>\n",
       "      <td>1.73</td>\n",
       "      <td>4.17</td>\n",
       "      <td>0.37</td>\n",
       "      <td>3.80</td>\n",
       "      <td>1.78</td>\n",
       "      <td>3.70</td>\n",
       "      <td>0.43</td>\n",
       "      <td>3.27</td>\n",
       "    </tr>\n",
       "    <tr>\n",
       "      <th>17819</th>\n",
       "      <td>12/31/1983</td>\n",
       "      <td>1983</td>\n",
       "      <td>12</td>\n",
       "      <td>Myagdi</td>\n",
       "      <td>28.40</td>\n",
       "      <td>83.60</td>\n",
       "      <td>6.49</td>\n",
       "      <td>79.50</td>\n",
       "      <td>3.01</td>\n",
       "      <td>40.53</td>\n",
       "      <td>...</td>\n",
       "      <td>10.44</td>\n",
       "      <td>3.25</td>\n",
       "      <td>1.76</td>\n",
       "      <td>4.08</td>\n",
       "      <td>0.37</td>\n",
       "      <td>3.71</td>\n",
       "      <td>1.74</td>\n",
       "      <td>3.47</td>\n",
       "      <td>0.45</td>\n",
       "      <td>3.02</td>\n",
       "    </tr>\n",
       "    <tr>\n",
       "      <th>17807</th>\n",
       "      <td>12/31/1982</td>\n",
       "      <td>1982</td>\n",
       "      <td>12</td>\n",
       "      <td>Myagdi</td>\n",
       "      <td>28.40</td>\n",
       "      <td>83.60</td>\n",
       "      <td>6.39</td>\n",
       "      <td>79.48</td>\n",
       "      <td>3.22</td>\n",
       "      <td>41.30</td>\n",
       "      <td>...</td>\n",
       "      <td>10.61</td>\n",
       "      <td>3.72</td>\n",
       "      <td>1.75</td>\n",
       "      <td>4.27</td>\n",
       "      <td>0.37</td>\n",
       "      <td>3.90</td>\n",
       "      <td>1.79</td>\n",
       "      <td>3.76</td>\n",
       "      <td>0.40</td>\n",
       "      <td>3.36</td>\n",
       "    </tr>\n",
       "    <tr>\n",
       "      <th>17879</th>\n",
       "      <td>12/31/1988</td>\n",
       "      <td>1988</td>\n",
       "      <td>12</td>\n",
       "      <td>Myagdi</td>\n",
       "      <td>28.40</td>\n",
       "      <td>83.60</td>\n",
       "      <td>17.38</td>\n",
       "      <td>79.67</td>\n",
       "      <td>3.81</td>\n",
       "      <td>46.61</td>\n",
       "      <td>...</td>\n",
       "      <td>9.69</td>\n",
       "      <td>4.92</td>\n",
       "      <td>1.68</td>\n",
       "      <td>3.82</td>\n",
       "      <td>0.41</td>\n",
       "      <td>3.41</td>\n",
       "      <td>1.68</td>\n",
       "      <td>3.17</td>\n",
       "      <td>0.47</td>\n",
       "      <td>2.70</td>\n",
       "    </tr>\n",
       "    <tr>\n",
       "      <th>29015</th>\n",
       "      <td>12/31/2019</td>\n",
       "      <td>2019</td>\n",
       "      <td>12</td>\n",
       "      <td>Udayapur</td>\n",
       "      <td>26.90</td>\n",
       "      <td>86.50</td>\n",
       "      <td>0.35</td>\n",
       "      <td>95.74</td>\n",
       "      <td>6.57</td>\n",
       "      <td>61.07</td>\n",
       "      <td>...</td>\n",
       "      <td>10.05</td>\n",
       "      <td>12.57</td>\n",
       "      <td>1.79</td>\n",
       "      <td>3.25</td>\n",
       "      <td>0.66</td>\n",
       "      <td>2.60</td>\n",
       "      <td>2.47</td>\n",
       "      <td>3.93</td>\n",
       "      <td>0.83</td>\n",
       "      <td>3.09</td>\n",
       "    </tr>\n",
       "  </tbody>\n",
       "</table>\n",
       "<p>29016 rows × 24 columns</p>\n",
       "</div>"
      ],
      "text/plain": [
       "             DATE  YEAR  MONTH      DISTRICT    LAT    LON PRECTOT     PS  \\\n",
       "0       1/31/1981  1981      1  Arghakhanchi  27.90  83.20   67.31  93.78   \n",
       "7764    1/31/2004  2004      1        Dolkha  27.60  86.20   12.27  70.51   \n",
       "3252    1/31/2018  2018      1       Bardiya  28.45  81.30    0.18  95.20   \n",
       "22176   1/31/1996  1996      1         Rukum  28.65  82.35   30.41  74.73   \n",
       "26964   1/31/2005  2005      1       Syangja  28.00  83.85   41.78  86.31   \n",
       "...           ...   ...    ...           ...    ...    ...     ...    ...   \n",
       "17831  12/31/1984  1984     12        Myagdi  28.40  83.60    4.61  79.32   \n",
       "17819  12/31/1983  1983     12        Myagdi  28.40  83.60    6.49  79.50   \n",
       "17807  12/31/1982  1982     12        Myagdi  28.40  83.60    6.39  79.48   \n",
       "17879  12/31/1988  1988     12        Myagdi  28.40  83.60   17.38  79.67   \n",
       "29015  12/31/2019  2019     12      Udayapur  26.90  86.50    0.35  95.74   \n",
       "\n",
       "       QV2M   RH2M  ...  T2M_RANGE     TS  WS10M  WS10M_MAX  WS10M_MIN  \\\n",
       "0      5.28  53.09  ...      10.03  11.19   2.01       3.39       0.81   \n",
       "7764   2.50  48.06  ...      11.27  -2.83   2.03       5.05       0.46   \n",
       "3252   3.81  36.69  ...      13.57  11.48   2.10       3.86       0.66   \n",
       "22176  2.37  40.10  ...      11.64  -0.38   2.30       4.79       0.82   \n",
       "26964  4.39  52.31  ...      10.18   7.36   1.79       3.56       0.50   \n",
       "...     ...    ...  ...        ...    ...    ...        ...        ...   \n",
       "17831  3.31  42.00  ...      10.48   3.75   1.73       4.17       0.37   \n",
       "17819  3.01  40.53  ...      10.44   3.25   1.76       4.08       0.37   \n",
       "17807  3.22  41.30  ...      10.61   3.72   1.75       4.27       0.37   \n",
       "17879  3.81  46.61  ...       9.69   4.92   1.68       3.82       0.41   \n",
       "29015  6.57  61.07  ...      10.05  12.57   1.79       3.25       0.66   \n",
       "\n",
       "       WS10M_RANGE  WS50M  WS50M_MAX  WS50M_MIN  WS50M_RANGE  \n",
       "0             2.59   2.70       4.22       1.06         3.16  \n",
       "7764          4.59   2.03       4.47       0.54         3.93  \n",
       "3252          3.20   2.78       4.46       0.88         3.60  \n",
       "22176         3.97   2.53       4.54       1.02         3.52  \n",
       "26964         3.07   2.13       3.72       0.63         3.09  \n",
       "...            ...    ...        ...        ...          ...  \n",
       "17831         3.80   1.78       3.70       0.43         3.27  \n",
       "17819         3.71   1.74       3.47       0.45         3.02  \n",
       "17807         3.90   1.79       3.76       0.40         3.36  \n",
       "17879         3.41   1.68       3.17       0.47         2.70  \n",
       "29015         2.60   2.47       3.93       0.83         3.09  \n",
       "\n",
       "[29016 rows x 24 columns]"
      ]
     },
     "execution_count": 9,
     "metadata": {},
     "output_type": "execute_result"
    }
   ],
   "source": [
    "CD.sort_values(['MONTH'], ascending=[True])### To arranged the specific data sets in the accending formats \n"
   ]
  },
  {
   "cell_type": "code",
   "execution_count": 10,
   "metadata": {},
   "outputs": [
    {
     "data": {
      "text/html": [
       "<div>\n",
       "<style scoped>\n",
       "    .dataframe tbody tr th:only-of-type {\n",
       "        vertical-align: middle;\n",
       "    }\n",
       "\n",
       "    .dataframe tbody tr th {\n",
       "        vertical-align: top;\n",
       "    }\n",
       "\n",
       "    .dataframe thead th {\n",
       "        text-align: right;\n",
       "    }\n",
       "</style>\n",
       "<table border=\"1\" class=\"dataframe\">\n",
       "  <thead>\n",
       "    <tr style=\"text-align: right;\">\n",
       "      <th></th>\n",
       "      <th>DATE</th>\n",
       "      <th>YEAR</th>\n",
       "      <th>MONTH</th>\n",
       "      <th>DISTRICT</th>\n",
       "      <th>LAT</th>\n",
       "      <th>LON</th>\n",
       "      <th>PRECTOT</th>\n",
       "      <th>PS</th>\n",
       "      <th>QV2M</th>\n",
       "      <th>RH2M</th>\n",
       "      <th>...</th>\n",
       "      <th>T2M_RANGE</th>\n",
       "      <th>TS</th>\n",
       "      <th>WS10M</th>\n",
       "      <th>WS10M_MAX</th>\n",
       "      <th>WS10M_MIN</th>\n",
       "      <th>WS10M_RANGE</th>\n",
       "      <th>WS50M</th>\n",
       "      <th>WS50M_MAX</th>\n",
       "      <th>WS50M_MIN</th>\n",
       "      <th>WS50M_RANGE</th>\n",
       "    </tr>\n",
       "  </thead>\n",
       "  <tbody>\n",
       "    <tr>\n",
       "      <th>0</th>\n",
       "      <td>1/31/1981</td>\n",
       "      <td>1981</td>\n",
       "      <td>1</td>\n",
       "      <td>Arghakhanchi</td>\n",
       "      <td>27.9</td>\n",
       "      <td>83.2</td>\n",
       "      <td>67.31</td>\n",
       "      <td>93.78</td>\n",
       "      <td>5.28</td>\n",
       "      <td>53.09</td>\n",
       "      <td>...</td>\n",
       "      <td>10.03</td>\n",
       "      <td>11.19</td>\n",
       "      <td>2.01</td>\n",
       "      <td>3.39</td>\n",
       "      <td>0.81</td>\n",
       "      <td>2.59</td>\n",
       "      <td>2.70</td>\n",
       "      <td>4.22</td>\n",
       "      <td>1.06</td>\n",
       "      <td>3.16</td>\n",
       "    </tr>\n",
       "    <tr>\n",
       "      <th>1</th>\n",
       "      <td>2/28/1981</td>\n",
       "      <td>1981</td>\n",
       "      <td>2</td>\n",
       "      <td>Arghakhanchi</td>\n",
       "      <td>27.9</td>\n",
       "      <td>83.2</td>\n",
       "      <td>3.37</td>\n",
       "      <td>93.52</td>\n",
       "      <td>5.13</td>\n",
       "      <td>40.88</td>\n",
       "      <td>...</td>\n",
       "      <td>13.08</td>\n",
       "      <td>15.10</td>\n",
       "      <td>2.58</td>\n",
       "      <td>4.88</td>\n",
       "      <td>0.95</td>\n",
       "      <td>3.94</td>\n",
       "      <td>3.51</td>\n",
       "      <td>5.62</td>\n",
       "      <td>1.09</td>\n",
       "      <td>4.53</td>\n",
       "    </tr>\n",
       "    <tr>\n",
       "      <th>2</th>\n",
       "      <td>3/31/1981</td>\n",
       "      <td>1981</td>\n",
       "      <td>3</td>\n",
       "      <td>Arghakhanchi</td>\n",
       "      <td>27.9</td>\n",
       "      <td>83.2</td>\n",
       "      <td>26.02</td>\n",
       "      <td>93.40</td>\n",
       "      <td>5.91</td>\n",
       "      <td>35.84</td>\n",
       "      <td>...</td>\n",
       "      <td>13.52</td>\n",
       "      <td>20.58</td>\n",
       "      <td>2.73</td>\n",
       "      <td>4.67</td>\n",
       "      <td>1.02</td>\n",
       "      <td>3.65</td>\n",
       "      <td>3.73</td>\n",
       "      <td>5.72</td>\n",
       "      <td>1.38</td>\n",
       "      <td>4.34</td>\n",
       "    </tr>\n",
       "    <tr>\n",
       "      <th>3</th>\n",
       "      <td>4/30/1981</td>\n",
       "      <td>1981</td>\n",
       "      <td>4</td>\n",
       "      <td>Arghakhanchi</td>\n",
       "      <td>27.9</td>\n",
       "      <td>83.2</td>\n",
       "      <td>46.15</td>\n",
       "      <td>93.03</td>\n",
       "      <td>6.52</td>\n",
       "      <td>29.81</td>\n",
       "      <td>...</td>\n",
       "      <td>15.03</td>\n",
       "      <td>25.63</td>\n",
       "      <td>2.89</td>\n",
       "      <td>4.78</td>\n",
       "      <td>1.07</td>\n",
       "      <td>3.72</td>\n",
       "      <td>3.82</td>\n",
       "      <td>5.66</td>\n",
       "      <td>1.35</td>\n",
       "      <td>4.31</td>\n",
       "    </tr>\n",
       "  </tbody>\n",
       "</table>\n",
       "<p>4 rows × 24 columns</p>\n",
       "</div>"
      ],
      "text/plain": [
       "        DATE  YEAR  MONTH      DISTRICT   LAT   LON PRECTOT     PS  QV2M  \\\n",
       "0  1/31/1981  1981      1  Arghakhanchi  27.9  83.2   67.31  93.78  5.28   \n",
       "1  2/28/1981  1981      2  Arghakhanchi  27.9  83.2    3.37  93.52  5.13   \n",
       "2  3/31/1981  1981      3  Arghakhanchi  27.9  83.2   26.02  93.40  5.91   \n",
       "3  4/30/1981  1981      4  Arghakhanchi  27.9  83.2   46.15  93.03  6.52   \n",
       "\n",
       "    RH2M  ...  T2M_RANGE     TS  WS10M  WS10M_MAX  WS10M_MIN  WS10M_RANGE  \\\n",
       "0  53.09  ...      10.03  11.19   2.01       3.39       0.81         2.59   \n",
       "1  40.88  ...      13.08  15.10   2.58       4.88       0.95         3.94   \n",
       "2  35.84  ...      13.52  20.58   2.73       4.67       1.02         3.65   \n",
       "3  29.81  ...      15.03  25.63   2.89       4.78       1.07         3.72   \n",
       "\n",
       "   WS50M  WS50M_MAX  WS50M_MIN  WS50M_RANGE  \n",
       "0   2.70       4.22       1.06         3.16  \n",
       "1   3.51       5.62       1.09         4.53  \n",
       "2   3.73       5.72       1.38         4.34  \n",
       "3   3.82       5.66       1.35         4.31  \n",
       "\n",
       "[4 rows x 24 columns]"
      ]
     },
     "execution_count": 10,
     "metadata": {},
     "output_type": "execute_result"
    }
   ],
   "source": [
    "#Making some changes in data\n",
    "CD.head(4)"
   ]
  },
  {
   "cell_type": "code",
   "execution_count": 16,
   "metadata": {},
   "outputs": [
    {
     "name": "stdout",
     "output_type": "stream",
     "text": [
      "PRECTOT     object\n",
      "PS         float64\n",
      "QV2M       float64\n",
      "RH2M       float64\n",
      "dtype: object\n",
      "        DATE  YEAR  MONTH      DISTRICT   LAT   LON PRECTOT     PS  QV2M  \\\n",
      "0  1/31/1981  1981      1  Arghakhanchi  27.9  83.2   67.31  93.78  5.28   \n",
      "1  2/28/1981  1981      2  Arghakhanchi  27.9  83.2    3.37  93.52  5.13   \n",
      "2  3/31/1981  1981      3  Arghakhanchi  27.9  83.2   26.02  93.40  5.91   \n",
      "3  4/30/1981  1981      4  Arghakhanchi  27.9  83.2   46.15  93.03  6.52   \n",
      "4  5/31/1981  1981      5  Arghakhanchi  27.9  83.2   69.45  92.75  9.95   \n",
      "\n",
      "    RH2M  ...     TS  WS10M  WS10M_MAX  WS10M_MIN  WS10M_RANGE  WS50M  \\\n",
      "0  53.09  ...  11.19   2.01       3.39       0.81         2.59   2.70   \n",
      "1  40.88  ...  15.10   2.58       4.88       0.95         3.94   3.51   \n",
      "2  35.84  ...  20.58   2.73       4.67       1.02         3.65   3.73   \n",
      "3  29.81  ...  25.63   2.89       4.78       1.07         3.72   3.82   \n",
      "4  37.25  ...  29.99   2.69       4.40       0.93         3.47   3.52   \n",
      "\n",
      "   WS50M_MAX  WS50M_MIN  WS50M_RANGE   Total  \n",
      "0       4.22       1.06         3.16  152.15  \n",
      "1       5.62       1.09         4.53  139.53  \n",
      "2       5.72       1.38         4.34  135.15  \n",
      "3       5.66       1.35         4.31  129.36  \n",
      "4       5.29       1.30         4.00  139.95  \n",
      "\n",
      "[5 rows x 25 columns]\n"
     ]
    }
   ],
   "source": [
    "CD['Total'] = CD['PS']+\tCD['QV2M']+\tCD['RH2M']##For adding the one same types of data types only like float, interger, \n",
    "print(CD[['PRECTOT', 'PS', 'QV2M', 'RH2M']].dtypes)\n",
    "print(CD.head(5))"
   ]
  },
  {
   "cell_type": "code",
   "execution_count": 17,
   "metadata": {},
   "outputs": [
    {
     "name": "stdout",
     "output_type": "stream",
     "text": [
      "        DATE  YEAR  MONTH      DISTRICT   LAT   LON PRECTOT     PS  QV2M  \\\n",
      "0  1/31/1981  1981      1  Arghakhanchi  27.9  83.2   67.31  93.78  5.28   \n",
      "1  2/28/1981  1981      2  Arghakhanchi  27.9  83.2    3.37  93.52  5.13   \n",
      "\n",
      "    RH2M  ...  T2M_RANGE     TS  WS10M  WS10M_MAX  WS10M_MIN  WS10M_RANGE  \\\n",
      "0  53.09  ...      10.03  11.19   2.01       3.39       0.81         2.59   \n",
      "1  40.88  ...      13.08  15.10   2.58       4.88       0.95         3.94   \n",
      "\n",
      "   WS50M  WS50M_MAX  WS50M_MIN  WS50M_RANGE  \n",
      "0   2.70       4.22       1.06         3.16  \n",
      "1   3.51       5.62       1.09         4.53  \n",
      "\n",
      "[2 rows x 24 columns]\n"
     ]
    }
   ],
   "source": [
    "DC = CD.drop(columns=['Total'])####To drop the specific column of the data sets \n",
    "print(DC.head(2))"
   ]
  },
  {
   "cell_type": "code",
   "execution_count": 26,
   "metadata": {},
   "outputs": [
    {
     "data": {
      "text/html": [
       "<div>\n",
       "<style scoped>\n",
       "    .dataframe tbody tr th:only-of-type {\n",
       "        vertical-align: middle;\n",
       "    }\n",
       "\n",
       "    .dataframe tbody tr th {\n",
       "        vertical-align: top;\n",
       "    }\n",
       "\n",
       "    .dataframe thead th {\n",
       "        text-align: right;\n",
       "    }\n",
       "</style>\n",
       "<table border=\"1\" class=\"dataframe\">\n",
       "  <thead>\n",
       "    <tr style=\"text-align: right;\">\n",
       "      <th></th>\n",
       "      <th>DATE</th>\n",
       "      <th>YEAR</th>\n",
       "      <th>MONTH</th>\n",
       "      <th>DISTRICT</th>\n",
       "      <th>LAT</th>\n",
       "      <th>LON</th>\n",
       "      <th>PRECTOT</th>\n",
       "      <th>PS</th>\n",
       "      <th>QV2M</th>\n",
       "      <th>RH2M</th>\n",
       "      <th>...</th>\n",
       "      <th>T2M_RANGE</th>\n",
       "      <th>TS</th>\n",
       "      <th>WS10M</th>\n",
       "      <th>WS10M_MAX</th>\n",
       "      <th>WS10M_MIN</th>\n",
       "      <th>WS10M_RANGE</th>\n",
       "      <th>WS50M</th>\n",
       "      <th>WS50M_MAX</th>\n",
       "      <th>WS50M_MIN</th>\n",
       "      <th>WS50M_RANGE</th>\n",
       "    </tr>\n",
       "  </thead>\n",
       "  <tbody>\n",
       "    <tr>\n",
       "      <th>0</th>\n",
       "      <td>1/31/1981</td>\n",
       "      <td>1981</td>\n",
       "      <td>1</td>\n",
       "      <td>Arghakhanchi</td>\n",
       "      <td>27.9</td>\n",
       "      <td>83.2</td>\n",
       "      <td>67.31</td>\n",
       "      <td>93.78</td>\n",
       "      <td>5.28</td>\n",
       "      <td>53.09</td>\n",
       "      <td>...</td>\n",
       "      <td>10.03</td>\n",
       "      <td>11.19</td>\n",
       "      <td>2.01</td>\n",
       "      <td>3.39</td>\n",
       "      <td>0.81</td>\n",
       "      <td>2.59</td>\n",
       "      <td>2.70</td>\n",
       "      <td>4.22</td>\n",
       "      <td>1.06</td>\n",
       "      <td>3.16</td>\n",
       "    </tr>\n",
       "    <tr>\n",
       "      <th>1</th>\n",
       "      <td>2/28/1981</td>\n",
       "      <td>1981</td>\n",
       "      <td>2</td>\n",
       "      <td>Arghakhanchi</td>\n",
       "      <td>27.9</td>\n",
       "      <td>83.2</td>\n",
       "      <td>3.37</td>\n",
       "      <td>93.52</td>\n",
       "      <td>5.13</td>\n",
       "      <td>40.88</td>\n",
       "      <td>...</td>\n",
       "      <td>13.08</td>\n",
       "      <td>15.10</td>\n",
       "      <td>2.58</td>\n",
       "      <td>4.88</td>\n",
       "      <td>0.95</td>\n",
       "      <td>3.94</td>\n",
       "      <td>3.51</td>\n",
       "      <td>5.62</td>\n",
       "      <td>1.09</td>\n",
       "      <td>4.53</td>\n",
       "    </tr>\n",
       "    <tr>\n",
       "      <th>2</th>\n",
       "      <td>3/31/1981</td>\n",
       "      <td>1981</td>\n",
       "      <td>3</td>\n",
       "      <td>Arghakhanchi</td>\n",
       "      <td>27.9</td>\n",
       "      <td>83.2</td>\n",
       "      <td>26.02</td>\n",
       "      <td>93.40</td>\n",
       "      <td>5.91</td>\n",
       "      <td>35.84</td>\n",
       "      <td>...</td>\n",
       "      <td>13.52</td>\n",
       "      <td>20.58</td>\n",
       "      <td>2.73</td>\n",
       "      <td>4.67</td>\n",
       "      <td>1.02</td>\n",
       "      <td>3.65</td>\n",
       "      <td>3.73</td>\n",
       "      <td>5.72</td>\n",
       "      <td>1.38</td>\n",
       "      <td>4.34</td>\n",
       "    </tr>\n",
       "    <tr>\n",
       "      <th>3</th>\n",
       "      <td>4/30/1981</td>\n",
       "      <td>1981</td>\n",
       "      <td>4</td>\n",
       "      <td>Arghakhanchi</td>\n",
       "      <td>27.9</td>\n",
       "      <td>83.2</td>\n",
       "      <td>46.15</td>\n",
       "      <td>93.03</td>\n",
       "      <td>6.52</td>\n",
       "      <td>29.81</td>\n",
       "      <td>...</td>\n",
       "      <td>15.03</td>\n",
       "      <td>25.63</td>\n",
       "      <td>2.89</td>\n",
       "      <td>4.78</td>\n",
       "      <td>1.07</td>\n",
       "      <td>3.72</td>\n",
       "      <td>3.82</td>\n",
       "      <td>5.66</td>\n",
       "      <td>1.35</td>\n",
       "      <td>4.31</td>\n",
       "    </tr>\n",
       "    <tr>\n",
       "      <th>4</th>\n",
       "      <td>5/31/1981</td>\n",
       "      <td>1981</td>\n",
       "      <td>5</td>\n",
       "      <td>Arghakhanchi</td>\n",
       "      <td>27.9</td>\n",
       "      <td>83.2</td>\n",
       "      <td>69.45</td>\n",
       "      <td>92.75</td>\n",
       "      <td>9.95</td>\n",
       "      <td>37.25</td>\n",
       "      <td>...</td>\n",
       "      <td>13.43</td>\n",
       "      <td>29.99</td>\n",
       "      <td>2.69</td>\n",
       "      <td>4.40</td>\n",
       "      <td>0.93</td>\n",
       "      <td>3.47</td>\n",
       "      <td>3.52</td>\n",
       "      <td>5.29</td>\n",
       "      <td>1.30</td>\n",
       "      <td>4.00</td>\n",
       "    </tr>\n",
       "    <tr>\n",
       "      <th>...</th>\n",
       "      <td>...</td>\n",
       "      <td>...</td>\n",
       "      <td>...</td>\n",
       "      <td>...</td>\n",
       "      <td>...</td>\n",
       "      <td>...</td>\n",
       "      <td>...</td>\n",
       "      <td>...</td>\n",
       "      <td>...</td>\n",
       "      <td>...</td>\n",
       "      <td>...</td>\n",
       "      <td>...</td>\n",
       "      <td>...</td>\n",
       "      <td>...</td>\n",
       "      <td>...</td>\n",
       "      <td>...</td>\n",
       "      <td>...</td>\n",
       "      <td>...</td>\n",
       "      <td>...</td>\n",
       "      <td>...</td>\n",
       "      <td>...</td>\n",
       "    </tr>\n",
       "    <tr>\n",
       "      <th>28543</th>\n",
       "      <td>8/31/2019</td>\n",
       "      <td>2019</td>\n",
       "      <td>8</td>\n",
       "      <td>Terhathum</td>\n",
       "      <td>27.1</td>\n",
       "      <td>87.5</td>\n",
       "      <td>6.43</td>\n",
       "      <td>79.78</td>\n",
       "      <td>15.92</td>\n",
       "      <td>90.70</td>\n",
       "      <td>...</td>\n",
       "      <td>6.07</td>\n",
       "      <td>19.63</td>\n",
       "      <td>2.26</td>\n",
       "      <td>4.38</td>\n",
       "      <td>0.53</td>\n",
       "      <td>3.84</td>\n",
       "      <td>2.41</td>\n",
       "      <td>4.04</td>\n",
       "      <td>0.77</td>\n",
       "      <td>3.27</td>\n",
       "    </tr>\n",
       "    <tr>\n",
       "      <th>28544</th>\n",
       "      <td>9/30/2019</td>\n",
       "      <td>2019</td>\n",
       "      <td>9</td>\n",
       "      <td>Terhathum</td>\n",
       "      <td>27.1</td>\n",
       "      <td>87.5</td>\n",
       "      <td>8.95</td>\n",
       "      <td>80.13</td>\n",
       "      <td>14.32</td>\n",
       "      <td>91.99</td>\n",
       "      <td>...</td>\n",
       "      <td>5.49</td>\n",
       "      <td>17.56</td>\n",
       "      <td>1.98</td>\n",
       "      <td>4.09</td>\n",
       "      <td>0.50</td>\n",
       "      <td>3.59</td>\n",
       "      <td>2.15</td>\n",
       "      <td>3.79</td>\n",
       "      <td>0.78</td>\n",
       "      <td>3.01</td>\n",
       "    </tr>\n",
       "    <tr>\n",
       "      <th>28545</th>\n",
       "      <td>10/31/2019</td>\n",
       "      <td>2019</td>\n",
       "      <td>10</td>\n",
       "      <td>Terhathum</td>\n",
       "      <td>27.1</td>\n",
       "      <td>87.5</td>\n",
       "      <td>0.59</td>\n",
       "      <td>80.32</td>\n",
       "      <td>11.45</td>\n",
       "      <td>88.21</td>\n",
       "      <td>...</td>\n",
       "      <td>6.91</td>\n",
       "      <td>14.49</td>\n",
       "      <td>1.66</td>\n",
       "      <td>3.78</td>\n",
       "      <td>0.22</td>\n",
       "      <td>3.56</td>\n",
       "      <td>1.67</td>\n",
       "      <td>3.19</td>\n",
       "      <td>0.29</td>\n",
       "      <td>2.91</td>\n",
       "    </tr>\n",
       "    <tr>\n",
       "      <th>28546</th>\n",
       "      <td>11/30/2019</td>\n",
       "      <td>2019</td>\n",
       "      <td>11</td>\n",
       "      <td>Terhathum</td>\n",
       "      <td>27.1</td>\n",
       "      <td>87.5</td>\n",
       "      <td>0.05</td>\n",
       "      <td>80.34</td>\n",
       "      <td>8.54</td>\n",
       "      <td>77.28</td>\n",
       "      <td>...</td>\n",
       "      <td>8.33</td>\n",
       "      <td>10.68</td>\n",
       "      <td>1.52</td>\n",
       "      <td>3.67</td>\n",
       "      <td>0.23</td>\n",
       "      <td>3.45</td>\n",
       "      <td>1.51</td>\n",
       "      <td>3.11</td>\n",
       "      <td>0.30</td>\n",
       "      <td>2.81</td>\n",
       "    </tr>\n",
       "    <tr>\n",
       "      <th>28547</th>\n",
       "      <td>12/31/2019</td>\n",
       "      <td>2019</td>\n",
       "      <td>12</td>\n",
       "      <td>Terhathum</td>\n",
       "      <td>27.1</td>\n",
       "      <td>87.5</td>\n",
       "      <td>0.41</td>\n",
       "      <td>80.30</td>\n",
       "      <td>4.82</td>\n",
       "      <td>64.45</td>\n",
       "      <td>...</td>\n",
       "      <td>9.38</td>\n",
       "      <td>3.93</td>\n",
       "      <td>1.54</td>\n",
       "      <td>3.59</td>\n",
       "      <td>0.31</td>\n",
       "      <td>3.28</td>\n",
       "      <td>1.57</td>\n",
       "      <td>3.14</td>\n",
       "      <td>0.41</td>\n",
       "      <td>2.73</td>\n",
       "    </tr>\n",
       "  </tbody>\n",
       "</table>\n",
       "<p>23868 rows × 24 columns</p>\n",
       "</div>"
      ],
      "text/plain": [
       "             DATE  YEAR  MONTH      DISTRICT   LAT   LON PRECTOT     PS  \\\n",
       "0       1/31/1981  1981      1  Arghakhanchi  27.9  83.2   67.31  93.78   \n",
       "1       2/28/1981  1981      2  Arghakhanchi  27.9  83.2    3.37  93.52   \n",
       "2       3/31/1981  1981      3  Arghakhanchi  27.9  83.2   26.02  93.40   \n",
       "3       4/30/1981  1981      4  Arghakhanchi  27.9  83.2   46.15  93.03   \n",
       "4       5/31/1981  1981      5  Arghakhanchi  27.9  83.2   69.45  92.75   \n",
       "...           ...   ...    ...           ...   ...   ...     ...    ...   \n",
       "28543   8/31/2019  2019      8     Terhathum  27.1  87.5    6.43  79.78   \n",
       "28544   9/30/2019  2019      9     Terhathum  27.1  87.5    8.95  80.13   \n",
       "28545  10/31/2019  2019     10     Terhathum  27.1  87.5    0.59  80.32   \n",
       "28546  11/30/2019  2019     11     Terhathum  27.1  87.5    0.05  80.34   \n",
       "28547  12/31/2019  2019     12     Terhathum  27.1  87.5    0.41  80.30   \n",
       "\n",
       "        QV2M   RH2M  ...  T2M_RANGE     TS  WS10M  WS10M_MAX  WS10M_MIN  \\\n",
       "0       5.28  53.09  ...      10.03  11.19   2.01       3.39       0.81   \n",
       "1       5.13  40.88  ...      13.08  15.10   2.58       4.88       0.95   \n",
       "2       5.91  35.84  ...      13.52  20.58   2.73       4.67       1.02   \n",
       "3       6.52  29.81  ...      15.03  25.63   2.89       4.78       1.07   \n",
       "4       9.95  37.25  ...      13.43  29.99   2.69       4.40       0.93   \n",
       "...      ...    ...  ...        ...    ...    ...        ...        ...   \n",
       "28543  15.92  90.70  ...       6.07  19.63   2.26       4.38       0.53   \n",
       "28544  14.32  91.99  ...       5.49  17.56   1.98       4.09       0.50   \n",
       "28545  11.45  88.21  ...       6.91  14.49   1.66       3.78       0.22   \n",
       "28546   8.54  77.28  ...       8.33  10.68   1.52       3.67       0.23   \n",
       "28547   4.82  64.45  ...       9.38   3.93   1.54       3.59       0.31   \n",
       "\n",
       "       WS10M_RANGE  WS50M  WS50M_MAX  WS50M_MIN  WS50M_RANGE  \n",
       "0             2.59   2.70       4.22       1.06         3.16  \n",
       "1             3.94   3.51       5.62       1.09         4.53  \n",
       "2             3.65   3.73       5.72       1.38         4.34  \n",
       "3             3.72   3.82       5.66       1.35         4.31  \n",
       "4             3.47   3.52       5.29       1.30         4.00  \n",
       "...            ...    ...        ...        ...          ...  \n",
       "28543         3.84   2.41       4.04       0.77         3.27  \n",
       "28544         3.59   2.15       3.79       0.78         3.01  \n",
       "28545         3.56   1.67       3.19       0.29         2.91  \n",
       "28546         3.45   1.51       3.11       0.30         2.81  \n",
       "28547         3.28   1.57       3.14       0.41         2.73  \n",
       "\n",
       "[23868 rows x 24 columns]"
      ]
     },
     "execution_count": 26,
     "metadata": {},
     "output_type": "execute_result"
    }
   ],
   "source": [
    "G27= DC.loc[DC['LAT'] > 27]###Square Brackets []:\n",
    "# Lists, indexing, slicing, and dictionary key access.\n",
    "# Curly Braces {}:\n",
    "# Dictionaries and sets.\n",
    "# Parentheses ():\n",
    "# Tuples, function calls, and grouping expressions.\n",
    "G27"
   ]
  },
  {
   "cell_type": "code",
   "execution_count": 27,
   "metadata": {},
   "outputs": [],
   "source": [
    "##To save the file in the specific format after filtering or soriting any thing performing the the %%python\n",
    "##G27.to_html('filter data.html') "
   ]
  },
  {
   "cell_type": "code",
   "execution_count": 48,
   "metadata": {},
   "outputs": [
    {
     "data": {
      "image/png": "[encoded data removed]",
      "text/plain": [
       "<Figure size 1200x1500 with 1 Axes>"
      ]
     },
     "metadata": {},
     "output_type": "display_data"
    }
   ],
   "source": [
    "###This is the compete tutorial of pandas that is data sorting filtering or any thing else.abs\n",
    "##Crash course for the matplot lissubclass\n",
    "import matplotlib.pyplot as plt\n",
    "\n",
    "Xaxis = DC['DISTRICT']\n",
    "Yaxis = DC['LAT']\n",
    "\n",
    "plt.figure(figsize=(12, 15))\n",
    "#plt.violinplot(Xaxis, Yaxis, marker=\"^\", s= 80, c=\"#dc143C\")\n",
    "plt.scatter(Xaxis, Yaxis, marker=\"^\", s= 80, c=\"#dc143C\")\n",
    "plt.xticks(rotation=45, fontsize=4, ha='right', va='top')###Here ha and va indicates the Horizontal and vertical alignment of the x axis lebel\n",
    "plt.tick_params(axis='x', labelsize=8)\n",
    "plt.xlabel('Selected districts of Nepal')\n",
    "plt.ylabel('Latitude of different districts')\n",
    "# plt.savefig(\"Scatter_plot_600dpi.png\", dpi=600, bbox_inches='tight')\n",
    "plt.show()\n"
   ]
  },
  {
   "cell_type": "code",
   "execution_count": null,
   "metadata": {},
   "outputs": [],
   "source": [
    "##Some commonly used marker in python programming \n",
    "#Common Marker Styles:\n",
    "# 'o': Circle\n",
    "# 's': Square\n",
    "# '^': Triangle Up\n",
    "# 'v': Triangle Down\n",
    "# '*': Star\n",
    "# '+': Plus sign\n",
    "# 'x': Cross"
   ]
  },
  {
   "cell_type": "code",
   "execution_count": 41,
   "metadata": {},
   "outputs": [],
   "source": [
    "###To know the specific color from the hex to code of the any color\n",
    "\n",
    "import webcolors"
   ]
  },
  {
   "cell_type": "code",
   "execution_count": 43,
   "metadata": {},
   "outputs": [
    {
     "name": "stdout",
     "output_type": "stream",
     "text": [
      "The hex code for Red is #ff0000\n"
     ]
    }
   ],
   "source": [
    "color = \"Red\"\n",
    "hex_code = webcolors.name_to_hex(color)\n",
    "print(f\"The hex code for {color} is {hex_code}\")"
   ]
  },
  {
   "cell_type": "code",
   "execution_count": 44,
   "metadata": {
    "scrolled": true
   },
   "outputs": [
    {
     "name": "stdout",
     "output_type": "stream",
     "text": [
      "#dc143c\n"
     ]
    }
   ],
   "source": [
    "color = \"Crimson\"\n",
    "HEX_CODE=webcolors.name_to_hex(color)\n",
    "print(HEX_CODE)"
   ]
  },
  {
   "cell_type": "code",
   "execution_count": 56,
   "metadata": {},
   "outputs": [
    {
     "name": "stdout",
     "output_type": "stream",
     "text": [
      "Defaulting to user installation because normal site-packages is not writeableNote: you may need to restart the kernel to use updated packages.\n",
      "\n",
      "Collecting ipympl\n",
      "  Downloading ipympl-0.9.6-py3-none-any.whl.metadata (8.7 kB)\n",
      "Requirement already satisfied: ipython<9 in c:\\users\\hp\\appdata\\roaming\\python\\python310\\site-packages (from ipympl) (8.21.0)\n",
      "Requirement already satisfied: ipywidgets<9,>=7.6.0 in c:\\users\\hp\\appdata\\roaming\\python\\python310\\site-packages (from ipympl) (8.1.5)\n",
      "Requirement already satisfied: matplotlib<4,>=3.5.0 in c:\\users\\hp\\appdata\\roaming\\python\\python310\\site-packages (from ipympl) (3.8.3)\n",
      "Requirement already satisfied: numpy in c:\\users\\hp\\appdata\\roaming\\python\\python310\\site-packages (from ipympl) (1.26.3)\n",
      "Requirement already satisfied: pillow in c:\\users\\hp\\appdata\\roaming\\python\\python310\\site-packages (from ipympl) (10.2.0)\n",
      "Requirement already satisfied: traitlets<6 in c:\\users\\hp\\appdata\\roaming\\python\\python310\\site-packages (from ipympl) (5.14.1)\n",
      "Requirement already satisfied: decorator in c:\\users\\hp\\appdata\\roaming\\python\\python310\\site-packages (from ipython<9->ipympl) (5.1.1)\n",
      "Requirement already satisfied: jedi>=0.16 in c:\\users\\hp\\appdata\\roaming\\python\\python310\\site-packages (from ipython<9->ipympl) (0.19.1)\n",
      "Requirement already satisfied: matplotlib-inline in c:\\users\\hp\\appdata\\roaming\\python\\python310\\site-packages (from ipython<9->ipympl) (0.1.6)\n",
      "Requirement already satisfied: prompt-toolkit<3.1.0,>=3.0.41 in c:\\users\\hp\\appdata\\roaming\\python\\python310\\site-packages (from ipython<9->ipympl) (3.0.43)\n",
      "Requirement already satisfied: pygments>=2.4.0 in c:\\users\\hp\\appdata\\roaming\\python\\python310\\site-packages (from ipython<9->ipympl) (2.17.2)\n",
      "Requirement already satisfied: stack-data in c:\\users\\hp\\appdata\\roaming\\python\\python310\\site-packages (from ipython<9->ipympl) (0.6.3)\n",
      "Requirement already satisfied: exceptiongroup in c:\\users\\hp\\appdata\\roaming\\python\\python310\\site-packages (from ipython<9->ipympl) (1.2.0)\n",
      "Requirement already satisfied: colorama in c:\\users\\hp\\appdata\\roaming\\python\\python310\\site-packages (from ipython<9->ipympl) (0.4.6)\n",
      "Requirement already satisfied: comm>=0.1.3 in c:\\users\\hp\\appdata\\roaming\\python\\python310\\site-packages (from ipywidgets<9,>=7.6.0->ipympl) (0.2.1)\n",
      "Requirement already satisfied: widgetsnbextension~=4.0.12 in c:\\users\\hp\\appdata\\roaming\\python\\python310\\site-packages (from ipywidgets<9,>=7.6.0->ipympl) (4.0.13)\n",
      "Requirement already satisfied: jupyterlab-widgets~=3.0.12 in c:\\users\\hp\\appdata\\roaming\\python\\python310\\site-packages (from ipywidgets<9,>=7.6.0->ipympl) (3.0.13)\n",
      "Requirement already satisfied: contourpy>=1.0.1 in c:\\users\\hp\\appdata\\roaming\\python\\python310\\site-packages (from matplotlib<4,>=3.5.0->ipympl) (1.2.0)\n",
      "Requirement already satisfied: cycler>=0.10 in c:\\users\\hp\\appdata\\roaming\\python\\python310\\site-packages (from matplotlib<4,>=3.5.0->ipympl) (0.12.1)\n",
      "Requirement already satisfied: fonttools>=4.22.0 in c:\\users\\hp\\appdata\\roaming\\python\\python310\\site-packages (from matplotlib<4,>=3.5.0->ipympl) (4.48.1)\n",
      "Requirement already satisfied: kiwisolver>=1.3.1 in c:\\users\\hp\\appdata\\roaming\\python\\python310\\site-packages (from matplotlib<4,>=3.5.0->ipympl) (1.4.5)\n",
      "Requirement already satisfied: packaging>=20.0 in c:\\users\\hp\\appdata\\roaming\\python\\python310\\site-packages (from matplotlib<4,>=3.5.0->ipympl) (23.2)\n",
      "Requirement already satisfied: pyparsing>=2.3.1 in c:\\users\\hp\\appdata\\roaming\\python\\python310\\site-packages (from matplotlib<4,>=3.5.0->ipympl) (3.1.1)\n",
      "Requirement already satisfied: python-dateutil>=2.7 in c:\\users\\hp\\appdata\\roaming\\python\\python310\\site-packages (from matplotlib<4,>=3.5.0->ipympl) (2.8.2)\n",
      "Requirement already satisfied: parso<0.9.0,>=0.8.3 in c:\\users\\hp\\appdata\\roaming\\python\\python310\\site-packages (from jedi>=0.16->ipython<9->ipympl) (0.8.3)\n",
      "Requirement already satisfied: wcwidth in c:\\users\\hp\\appdata\\roaming\\python\\python310\\site-packages (from prompt-toolkit<3.1.0,>=3.0.41->ipython<9->ipympl) (0.2.13)\n",
      "Requirement already satisfied: six>=1.5 in c:\\users\\hp\\appdata\\roaming\\python\\python310\\site-packages (from python-dateutil>=2.7->matplotlib<4,>=3.5.0->ipympl) (1.16.0)\n",
      "Requirement already satisfied: executing>=1.2.0 in c:\\users\\hp\\appdata\\roaming\\python\\python310\\site-packages (from stack-data->ipython<9->ipympl) (2.0.1)\n",
      "Requirement already satisfied: asttokens>=2.1.0 in c:\\users\\hp\\appdata\\roaming\\python\\python310\\site-packages (from stack-data->ipython<9->ipympl) (2.4.1)\n",
      "Requirement already satisfied: pure-eval in c:\\users\\hp\\appdata\\roaming\\python\\python310\\site-packages (from stack-data->ipython<9->ipympl) (0.2.2)\n",
      "Downloading ipympl-0.9.6-py3-none-any.whl (515 kB)\n",
      "Installing collected packages: ipympl\n",
      "Successfully installed ipympl-0.9.6\n"
     ]
    }
   ],
   "source": [
    "pip install ipympl\n"
   ]
  },
  {
   "cell_type": "code",
   "execution_count": 63,
   "metadata": {
    "scrolled": true
   },
   "outputs": [
    {
     "name": "stdout",
     "output_type": "stream",
     "text": [
      "    Replication  3G  Ethephon  Yld/vine  Frt No.     AFW   YLD/ha    AFL  \\\n",
      "0             1  TG0       E0     4.800    10.18  471.51  12.0000  25.13   \n",
      "1             1  TG0     E100     5.351    11.20  477.77  13.3775  24.68   \n",
      "2             1  TG0     E200     7.478    11.45  653.10  18.6950  23.95   \n",
      "3             1  TG0     E300     8.783    12.61  696.51  21.9575  22.56   \n",
      "4             1   TG       E0     9.247    13.54  682.94  23.1175  22.15   \n",
      "5             1   TG     E100    10.425    13.93  748.38  26.0625  21.92   \n",
      "6             1   TG     E200    10.612    14.82  716.06  26.5300  21.86   \n",
      "7             1   TG     E300    12.305    15.56  790.81  30.7625  20.52   \n",
      "8             2  TG0       E0     3.900     9.83  396.74   9.7500  26.10   \n",
      "9             2  TG0     E100     4.495    10.55  426.07  11.2375  25.02   \n",
      "10            2  TG0     E200     6.107    11.15  547.71  15.2675  24.80   \n",
      "11            2  TG0     E300     8.200    12.96  632.72  20.5000  23.14   \n",
      "12            2   TG       E0     9.438    13.60  693.97  23.5950  22.55   \n",
      "13            2   TG     E100    10.156    13.89  731.17  25.3900  22.10   \n",
      "14            2   TG     E200    10.605    14.76  718.50  26.5125  22.00   \n",
      "15            2   TG     E300    11.106    15.11  735.01  27.7650  21.34   \n",
      "16            3  TG0       E0     5.100    11.29  451.73  12.7500  27.30   \n",
      "17            3  TG0     E100     6.152    12.23  503.03  15.3800  26.22   \n",
      "18            3  TG0     E200     7.896    12.50  631.68  19.7400  25.96   \n",
      "19            3  TG0     E300     8.900    12.81  694.77  22.2500  24.38   \n",
      "20            3   TG       E0     9.890    14.12  700.42  24.7250  23.91   \n",
      "21            3   TG     E100    10.500    14.26  736.33  26.2500  23.10   \n",
      "22            3   TG     E200    10.987    15.16  703.84  27.4675  22.98   \n",
      "23            3   TG     E300    13.264    16.02  827.96  33.1600  22.10   \n",
      "\n",
      "    1st Ml  1st Fml  ...    SR   30 VL  30 LB  30 Nodes   45 VL  45 LB  \\\n",
      "0    15.75    28.75  ...  6.75  133.75  14.00    118.00  262.25  18.75   \n",
      "1    33.75    26.25  ...  5.12   84.00   7.50    101.50  215.00  12.50   \n",
      "2    36.75    23.00  ...  3.83   68.75   9.75     65.00  187.00  13.75   \n",
      "3    41.75    22.25  ...  3.55   61.75   9.50     62.75  176.25   9.00   \n",
      "4    17.00    29.50  ...  4.20   82.00   3.75     22.50  166.25  13.50   \n",
      "5    36.25    26.50  ...  2.86   69.50   4.25     34.25  158.50  16.00   \n",
      "6    38.25    24.50  ...  1.60   51.25   5.50     32.50  133.75  14.25   \n",
      "7    38.75    24.00  ...  1.12   53.50   5.25     35.50  152.00   9.00   \n",
      "8    16.75    26.50  ...  6.10  126.25  11.50    109.50  282.00  14.25   \n",
      "9    36.00    24.00  ...  5.89   86.50   8.00     92.75  223.75  11.75   \n",
      "10   40.25    22.00  ...  4.63   63.00   7.75     80.00  170.00  13.00   \n",
      "11   44.00    21.50  ...  3.12   51.00   6.75     69.00  203.75  13.25   \n",
      "12   18.00    29.75  ...  5.20   88.75   4.50     29.25  163.75  11.00   \n",
      "13   38.25    25.75  ...  2.55   69.25   4.75     46.25  181.25  15.00   \n",
      "14   38.50    23.75  ...  1.90   48.25   3.75     31.25  138.75  13.00   \n",
      "15   41.75    23.00  ...  1.60   30.75   3.50     31.50  153.75   9.00   \n",
      "16   16.25    28.00  ...  6.89  122.25   9.25     78.50  284.75  14.00   \n",
      "17   36.25    25.50  ...  6.05   69.25   7.25     56.00  209.25  11.50   \n",
      "18   38.50    21.75  ...  4.56   51.25   6.00     44.75  198.00  10.00   \n",
      "19   39.25    20.00  ...  3.91   61.00   9.25     82.75  194.25  10.00   \n",
      "20   18.00    30.50  ...  5.13   94.50   4.75     37.75  163.75  17.75   \n",
      "21   37.50    26.50  ...  3.03   69.75   4.25     32.75  143.75  12.75   \n",
      "22   38.25    25.00  ...  2.10   47.75   3.50     33.25  144.25  12.75   \n",
      "23   39.75    24.00  ...  1.22   46.50   4.00     26.50  156.75   9.50   \n",
      "\n",
      "    45 Nodes   60 VL  60 LB  60 Nodes  \n",
      "0     218.00  310.75  25.25    263.00  \n",
      "1     167.50  282.50  17.00    236.75  \n",
      "2     214.25  243.25  12.75    198.75  \n",
      "3     148.75  249.75  10.00    147.00  \n",
      "4     110.75  222.50  10.25    120.00  \n",
      "5     151.75  205.50  17.75    163.50  \n",
      "6     120.75  193.75  15.75    165.25  \n",
      "7     115.00  208.00  10.75    153.25  \n",
      "8     178.25  305.00  20.75    278.25  \n",
      "9     162.00  272.50  13.50    185.50  \n",
      "10    143.00  193.75  12.50    201.75  \n",
      "11    164.25  220.00  11.25    170.00  \n",
      "12     85.75  249.25  10.75    109.50  \n",
      "13    126.50  209.50  11.75    156.75  \n",
      "14    155.25  198.75  13.25    161.50  \n",
      "15    100.00  201.25  12.75    136.25  \n",
      "16    178.50  313.75  20.00    279.75  \n",
      "17    144.25  255.00  13.25    209.75  \n",
      "18    114.75  228.75  12.50    171.50  \n",
      "19    136.75  245.00  11.50    182.25  \n",
      "20    120.00  260.00  11.00    152.75  \n",
      "21    124.50  231.25  11.00    141.00  \n",
      "22     94.00  218.75  15.25    168.75  \n",
      "23     98.50  223.75  10.75    145.75  \n",
      "\n",
      "[24 rows x 22 columns]\n"
     ]
    }
   ],
   "source": [
    "####ploty  is used for the ineratieve 3 d plotting of the data sets\n",
    "import plotly.graph_objs as go\n",
    "import numpy as np\n",
    "import pandas as pd\n",
    "CUM= pd.read_excel(\"E:\\Python test\\LeePankajData.xlsx\")\n",
    "print(CUM)\n"
   ]
  },
  {
   "cell_type": "code",
   "execution_count": 74,
   "metadata": {},
   "outputs": [
    {
     "data": {
      "application/vnd.plotly.v1+json": {
       "config": {
        "plotlyServerURL": "https://plot.ly"
       },
       "data": [
        {
         "colorbar": {
          "title": {
           "text": "Yld/vine"
          }
         },
         "colorscale": [
          [
           0,
           "#440154"
          ],
          [
           0.1111111111111111,
           "#482878"
          ],
          [
           0.2222222222222222,
           "#3e4989"
          ],
          [
           0.3333333333333333,
           "#31688e"
          ],
          [
           0.4444444444444444,
           "#26828e"
          ],
          [
           0.5555555555555556,
           "#1f9e89"
          ],
          [
           0.6666666666666666,
           "#35b779"
          ],
          [
           0.7777777777777778,
           "#6ece58"
          ],
          [
           0.8888888888888888,
           "#b5de2b"
          ],
          [
           1,
           "#fde725"
          ]
         ],
         "type": "surface",
         "x": [
          [
           "E0",
           "E100",
           "E200",
           "E300"
          ],
          [
           "E0",
           "E100",
           "E200",
           "E300"
          ]
         ],
         "y": [
          [
           "TG0",
           "TG0",
           "TG0",
           "TG0"
          ],
          [
           "TG",
           "TG",
           "TG",
           "TG"
          ]
         ],
         "z": [
          [
           9.525,
           10.360333333333335,
           10.734666666666667,
           12.225
          ],
          [
           4.6,
           5.332666666666667,
           7.160333333333334,
           8.627666666666666
          ]
         ]
        }
       ],
       "layout": {
        "height": 600,
        "scene": {
         "xaxis": {
          "ticktext": [
           "E0",
           "E100",
           "E200",
           "E300"
          ],
          "tickvals": [
           0,
           1,
           2,
           3
          ],
          "title": {
           "text": "Ethephon Treatment"
          }
         },
         "yaxis": {
          "ticktext": [
           "TG0",
           "TG"
          ],
          "tickvals": [
           0,
           1
          ],
          "title": {
           "text": "3G Levels"
          }
         },
         "zaxis": {
          "title": {
           "text": "Yield per Vine"
          }
         }
        },
        "template": {
         "data": {
          "bar": [
           {
            "error_x": {
             "color": "#2a3f5f"
            },
            "error_y": {
             "color": "#2a3f5f"
            },
            "marker": {
             "line": {
              "color": "#E5ECF6",
              "width": 0.5
             },
             "pattern": {
              "fillmode": "overlay",
              "size": 10,
              "solidity": 0.2
             }
            },
            "type": "bar"
           }
          ],
          "barpolar": [
           {
            "marker": {
             "line": {
              "color": "#E5ECF6",
              "width": 0.5
             },
             "pattern": {
              "fillmode": "overlay",
              "size": 10,
              "solidity": 0.2
             }
            },
            "type": "barpolar"
           }
          ],
          "carpet": [
           {
            "aaxis": {
             "endlinecolor": "#2a3f5f",
             "gridcolor": "white",
             "linecolor": "white",
             "minorgridcolor": "white",
             "startlinecolor": "#2a3f5f"
            },
            "baxis": {
             "endlinecolor": "#2a3f5f",
             "gridcolor": "white",
             "linecolor": "white",
             "minorgridcolor": "white",
             "startlinecolor": "#2a3f5f"
            },
            "type": "carpet"
           }
          ],
          "choropleth": [
           {
            "colorbar": {
             "outlinewidth": 0,
             "ticks": ""
            },
            "type": "choropleth"
           }
          ],
          "contour": [
           {
            "colorbar": {
             "outlinewidth": 0,
             "ticks": ""
            },
            "colorscale": [
             [
              0,
              "#0d0887"
             ],
             [
              0.1111111111111111,
              "#46039f"
             ],
             [
              0.2222222222222222,
              "#7201a8"
             ],
             [
              0.3333333333333333,
              "#9c179e"
             ],
             [
              0.4444444444444444,
              "#bd3786"
             ],
             [
              0.5555555555555556,
              "#d8576b"
             ],
             [
              0.6666666666666666,
              "#ed7953"
             ],
             [
              0.7777777777777778,
              "#fb9f3a"
             ],
             [
              0.8888888888888888,
              "#fdca26"
             ],
             [
              1,
              "#f0f921"
             ]
            ],
            "type": "contour"
           }
          ],
          "contourcarpet": [
           {
            "colorbar": {
             "outlinewidth": 0,
             "ticks": ""
            },
            "type": "contourcarpet"
           }
          ],
          "heatmap": [
           {
            "colorbar": {
             "outlinewidth": 0,
             "ticks": ""
            },
            "colorscale": [
             [
              0,
              "#0d0887"
             ],
             [
              0.1111111111111111,
              "#46039f"
             ],
             [
              0.2222222222222222,
              "#7201a8"
             ],
             [
              0.3333333333333333,
              "#9c179e"
             ],
             [
              0.4444444444444444,
              "#bd3786"
             ],
             [
              0.5555555555555556,
              "#d8576b"
             ],
             [
              0.6666666666666666,
              "#ed7953"
             ],
             [
              0.7777777777777778,
              "#fb9f3a"
             ],
             [
              0.8888888888888888,
              "#fdca26"
             ],
             [
              1,
              "#f0f921"
             ]
            ],
            "type": "heatmap"
           }
          ],
          "heatmapgl": [
           {
            "colorbar": {
             "outlinewidth": 0,
             "ticks": ""
            },
            "colorscale": [
             [
              0,
              "#0d0887"
             ],
             [
              0.1111111111111111,
              "#46039f"
             ],
             [
              0.2222222222222222,
              "#7201a8"
             ],
             [
              0.3333333333333333,
              "#9c179e"
             ],
             [
              0.4444444444444444,
              "#bd3786"
             ],
             [
              0.5555555555555556,
              "#d8576b"
             ],
             [
              0.6666666666666666,
              "#ed7953"
             ],
             [
              0.7777777777777778,
              "#fb9f3a"
             ],
             [
              0.8888888888888888,
              "#fdca26"
             ],
             [
              1,
              "#f0f921"
             ]
            ],
            "type": "heatmapgl"
           }
          ],
          "histogram": [
           {
            "marker": {
             "pattern": {
              "fillmode": "overlay",
              "size": 10,
              "solidity": 0.2
             }
            },
            "type": "histogram"
           }
          ],
          "histogram2d": [
           {
            "colorbar": {
             "outlinewidth": 0,
             "ticks": ""
            },
            "colorscale": [
             [
              0,
              "#0d0887"
             ],
             [
              0.1111111111111111,
              "#46039f"
             ],
             [
              0.2222222222222222,
              "#7201a8"
             ],
             [
              0.3333333333333333,
              "#9c179e"
             ],
             [
              0.4444444444444444,
              "#bd3786"
             ],
             [
              0.5555555555555556,
              "#d8576b"
             ],
             [
              0.6666666666666666,
              "#ed7953"
             ],
             [
              0.7777777777777778,
              "#fb9f3a"
             ],
             [
              0.8888888888888888,
              "#fdca26"
             ],
             [
              1,
              "#f0f921"
             ]
            ],
            "type": "histogram2d"
           }
          ],
          "histogram2dcontour": [
           {
            "colorbar": {
             "outlinewidth": 0,
             "ticks": ""
            },
            "colorscale": [
             [
              0,
              "#0d0887"
             ],
             [
              0.1111111111111111,
              "#46039f"
             ],
             [
              0.2222222222222222,
              "#7201a8"
             ],
             [
              0.3333333333333333,
              "#9c179e"
             ],
             [
              0.4444444444444444,
              "#bd3786"
             ],
             [
              0.5555555555555556,
              "#d8576b"
             ],
             [
              0.6666666666666666,
              "#ed7953"
             ],
             [
              0.7777777777777778,
              "#fb9f3a"
             ],
             [
              0.8888888888888888,
              "#fdca26"
             ],
             [
              1,
              "#f0f921"
             ]
            ],
            "type": "histogram2dcontour"
           }
          ],
          "mesh3d": [
           {
            "colorbar": {
             "outlinewidth": 0,
             "ticks": ""
            },
            "type": "mesh3d"
           }
          ],
          "parcoords": [
           {
            "line": {
             "colorbar": {
              "outlinewidth": 0,
              "ticks": ""
             }
            },
            "type": "parcoords"
           }
          ],
          "pie": [
           {
            "automargin": true,
            "type": "pie"
           }
          ],
          "scatter": [
           {
            "fillpattern": {
             "fillmode": "overlay",
             "size": 10,
             "solidity": 0.2
            },
            "type": "scatter"
           }
          ],
          "scatter3d": [
           {
            "line": {
             "colorbar": {
              "outlinewidth": 0,
              "ticks": ""
             }
            },
            "marker": {
             "colorbar": {
              "outlinewidth": 0,
              "ticks": ""
             }
            },
            "type": "scatter3d"
           }
          ],
          "scattercarpet": [
           {
            "marker": {
             "colorbar": {
              "outlinewidth": 0,
              "ticks": ""
             }
            },
            "type": "scattercarpet"
           }
          ],
          "scattergeo": [
           {
            "marker": {
             "colorbar": {
              "outlinewidth": 0,
              "ticks": ""
             }
            },
            "type": "scattergeo"
           }
          ],
          "scattergl": [
           {
            "marker": {
             "colorbar": {
              "outlinewidth": 0,
              "ticks": ""
             }
            },
            "type": "scattergl"
           }
          ],
          "scattermapbox": [
           {
            "marker": {
             "colorbar": {
              "outlinewidth": 0,
              "ticks": ""
             }
            },
            "type": "scattermapbox"
           }
          ],
          "scatterpolar": [
           {
            "marker": {
             "colorbar": {
              "outlinewidth": 0,
              "ticks": ""
             }
            },
            "type": "scatterpolar"
           }
          ],
          "scatterpolargl": [
           {
            "marker": {
             "colorbar": {
              "outlinewidth": 0,
              "ticks": ""
             }
            },
            "type": "scatterpolargl"
           }
          ],
          "scatterternary": [
           {
            "marker": {
             "colorbar": {
              "outlinewidth": 0,
              "ticks": ""
             }
            },
            "type": "scatterternary"
           }
          ],
          "surface": [
           {
            "colorbar": {
             "outlinewidth": 0,
             "ticks": ""
            },
            "colorscale": [
             [
              0,
              "#0d0887"
             ],
             [
              0.1111111111111111,
              "#46039f"
             ],
             [
              0.2222222222222222,
              "#7201a8"
             ],
             [
              0.3333333333333333,
              "#9c179e"
             ],
             [
              0.4444444444444444,
              "#bd3786"
             ],
             [
              0.5555555555555556,
              "#d8576b"
             ],
             [
              0.6666666666666666,
              "#ed7953"
             ],
             [
              0.7777777777777778,
              "#fb9f3a"
             ],
             [
              0.8888888888888888,
              "#fdca26"
             ],
             [
              1,
              "#f0f921"
             ]
            ],
            "type": "surface"
           }
          ],
          "table": [
           {
            "cells": {
             "fill": {
              "color": "#EBF0F8"
             },
             "line": {
              "color": "white"
             }
            },
            "header": {
             "fill": {
              "color": "#C8D4E3"
             },
             "line": {
              "color": "white"
             }
            },
            "type": "table"
           }
          ]
         },
         "layout": {
          "annotationdefaults": {
           "arrowcolor": "#2a3f5f",
           "arrowhead": 0,
           "arrowwidth": 1
          },
          "autotypenumbers": "strict",
          "coloraxis": {
           "colorbar": {
            "outlinewidth": 0,
            "ticks": ""
           }
          },
          "colorscale": {
           "diverging": [
            [
             0,
             "#8e0152"
            ],
            [
             0.1,
             "#c51b7d"
            ],
            [
             0.2,
             "#de77ae"
            ],
            [
             0.3,
             "#f1b6da"
            ],
            [
             0.4,
             "#fde0ef"
            ],
            [
             0.5,
             "#f7f7f7"
            ],
            [
             0.6,
             "#e6f5d0"
            ],
            [
             0.7,
             "#b8e186"
            ],
            [
             0.8,
             "#7fbc41"
            ],
            [
             0.9,
             "#4d9221"
            ],
            [
             1,
             "#276419"
            ]
           ],
           "sequential": [
            [
             0,
             "#0d0887"
            ],
            [
             0.1111111111111111,
             "#46039f"
            ],
            [
             0.2222222222222222,
             "#7201a8"
            ],
            [
             0.3333333333333333,
             "#9c179e"
            ],
            [
             0.4444444444444444,
             "#bd3786"
            ],
            [
             0.5555555555555556,
             "#d8576b"
            ],
            [
             0.6666666666666666,
             "#ed7953"
            ],
            [
             0.7777777777777778,
             "#fb9f3a"
            ],
            [
             0.8888888888888888,
             "#fdca26"
            ],
            [
             1,
             "#f0f921"
            ]
           ],
           "sequentialminus": [
            [
             0,
             "#0d0887"
            ],
            [
             0.1111111111111111,
             "#46039f"
            ],
            [
             0.2222222222222222,
             "#7201a8"
            ],
            [
             0.3333333333333333,
             "#9c179e"
            ],
            [
             0.4444444444444444,
             "#bd3786"
            ],
            [
             0.5555555555555556,
             "#d8576b"
            ],
            [
             0.6666666666666666,
             "#ed7953"
            ],
            [
             0.7777777777777778,
             "#fb9f3a"
            ],
            [
             0.8888888888888888,
             "#fdca26"
            ],
            [
             1,
             "#f0f921"
            ]
           ]
          },
          "colorway": [
           "#636efa",
           "#EF553B",
           "#00cc96",
           "#ab63fa",
           "#FFA15A",
           "#19d3f3",
           "#FF6692",
           "#B6E880",
           "#FF97FF",
           "#FECB52"
          ],
          "font": {
           "color": "#2a3f5f"
          },
          "geo": {
           "bgcolor": "white",
           "lakecolor": "white",
           "landcolor": "#E5ECF6",
           "showlakes": true,
           "showland": true,
           "subunitcolor": "white"
          },
          "hoverlabel": {
           "align": "left"
          },
          "hovermode": "closest",
          "mapbox": {
           "style": "light"
          },
          "paper_bgcolor": "white",
          "plot_bgcolor": "#E5ECF6",
          "polar": {
           "angularaxis": {
            "gridcolor": "white",
            "linecolor": "white",
            "ticks": ""
           },
           "bgcolor": "#E5ECF6",
           "radialaxis": {
            "gridcolor": "white",
            "linecolor": "white",
            "ticks": ""
           }
          },
          "scene": {
           "xaxis": {
            "backgroundcolor": "#E5ECF6",
            "gridcolor": "white",
            "gridwidth": 2,
            "linecolor": "white",
            "showbackground": true,
            "ticks": "",
            "zerolinecolor": "white"
           },
           "yaxis": {
            "backgroundcolor": "#E5ECF6",
            "gridcolor": "white",
            "gridwidth": 2,
            "linecolor": "white",
            "showbackground": true,
            "ticks": "",
            "zerolinecolor": "white"
           },
           "zaxis": {
            "backgroundcolor": "#E5ECF6",
            "gridcolor": "white",
            "gridwidth": 2,
            "linecolor": "white",
            "showbackground": true,
            "ticks": "",
            "zerolinecolor": "white"
           }
          },
          "shapedefaults": {
           "line": {
            "color": "#2a3f5f"
           }
          },
          "ternary": {
           "aaxis": {
            "gridcolor": "white",
            "linecolor": "white",
            "ticks": ""
           },
           "baxis": {
            "gridcolor": "white",
            "linecolor": "white",
            "ticks": ""
           },
           "bgcolor": "#E5ECF6",
           "caxis": {
            "gridcolor": "white",
            "linecolor": "white",
            "ticks": ""
           }
          },
          "title": {
           "x": 0.05
          },
          "xaxis": {
           "automargin": true,
           "gridcolor": "white",
           "linecolor": "white",
           "ticks": "",
           "title": {
            "standoff": 15
           },
           "zerolinecolor": "white",
           "zerolinewidth": 2
          },
          "yaxis": {
           "automargin": true,
           "gridcolor": "white",
           "linecolor": "white",
           "ticks": "",
           "title": {
            "standoff": 15
           },
           "zerolinecolor": "white",
           "zerolinewidth": 2
          }
         }
        },
        "title": {
         "text": "3D Surface Plot (Ethephon and 3G levels vs Yield/vine)"
        },
        "width": 800
       }
      },
      "image/png": "[encoded data removed]",
      "text/html": [
       "<div>                            <div id=\"7905bf7a-62ba-473d-a3a2-066093cb9c82\" class=\"plotly-graph-div\" style=\"height:600px; width:800px;\"></div>            <script type=\"text/javascript\">                require([\"plotly\"], function(Plotly) {                    window.PLOTLYENV=window.PLOTLYENV || {};                                    if (document.getElementById(\"7905bf7a-62ba-473d-a3a2-066093cb9c82\")) {                    Plotly.newPlot(                        \"7905bf7a-62ba-473d-a3a2-066093cb9c82\",                        [{\"colorbar\":{\"title\":{\"text\":\"Yld\\u002fvine\"}},\"colorscale\":[[0.0,\"#440154\"],[0.1111111111111111,\"#482878\"],[0.2222222222222222,\"#3e4989\"],[0.3333333333333333,\"#31688e\"],[0.4444444444444444,\"#26828e\"],[0.5555555555555556,\"#1f9e89\"],[0.6666666666666666,\"#35b779\"],[0.7777777777777778,\"#6ece58\"],[0.8888888888888888,\"#b5de2b\"],[1.0,\"#fde725\"]],\"x\":[[\"E0\",\"E100\",\"E200\",\"E300\"],[\"E0\",\"E100\",\"E200\",\"E300\"]],\"y\":[[\"TG0\",\"TG0\",\"TG0\",\"TG0\"],[\"TG\",\"TG\",\"TG\",\"TG\"]],\"z\":[[9.525,10.360333333333335,10.734666666666667,12.225],[4.6,5.332666666666667,7.160333333333334,8.627666666666666]],\"type\":\"surface\"}],                        {\"height\":600,\"scene\":{\"xaxis\":{\"ticktext\":[\"E0\",\"E100\",\"E200\",\"E300\"],\"tickvals\":[0,1,2,3],\"title\":{\"text\":\"Ethephon Treatment\"}},\"yaxis\":{\"ticktext\":[\"TG0\",\"TG\"],\"tickvals\":[0,1],\"title\":{\"text\":\"3G Levels\"}},\"zaxis\":{\"title\":{\"text\":\"Yield per Vine\"}}},\"title\":{\"text\":\"3D Surface Plot (Ethephon and 3G levels vs Yield\\u002fvine)\"},\"width\":800,\"template\":{\"data\":{\"histogram2dcontour\":[{\"type\":\"histogram2dcontour\",\"colorbar\":{\"outlinewidth\":0,\"ticks\":\"\"},\"colorscale\":[[0.0,\"#0d0887\"],[0.1111111111111111,\"#46039f\"],[0.2222222222222222,\"#7201a8\"],[0.3333333333333333,\"#9c179e\"],[0.4444444444444444,\"#bd3786\"],[0.5555555555555556,\"#d8576b\"],[0.6666666666666666,\"#ed7953\"],[0.7777777777777778,\"#fb9f3a\"],[0.8888888888888888,\"#fdca26\"],[1.0,\"#f0f921\"]]}],\"choropleth\":[{\"type\":\"choropleth\",\"colorbar\":{\"outlinewidth\":0,\"ticks\":\"\"}}],\"histogram2d\":[{\"type\":\"histogram2d\",\"colorbar\":{\"outlinewidth\":0,\"ticks\":\"\"},\"colorscale\":[[0.0,\"#0d0887\"],[0.1111111111111111,\"#46039f\"],[0.2222222222222222,\"#7201a8\"],[0.3333333333333333,\"#9c179e\"],[0.4444444444444444,\"#bd3786\"],[0.5555555555555556,\"#d8576b\"],[0.6666666666666666,\"#ed7953\"],[0.7777777777777778,\"#fb9f3a\"],[0.8888888888888888,\"#fdca26\"],[1.0,\"#f0f921\"]]}],\"heatmap\":[{\"type\":\"heatmap\",\"colorbar\":{\"outlinewidth\":0,\"ticks\":\"\"},\"colorscale\":[[0.0,\"#0d0887\"],[0.1111111111111111,\"#46039f\"],[0.2222222222222222,\"#7201a8\"],[0.3333333333333333,\"#9c179e\"],[0.4444444444444444,\"#bd3786\"],[0.5555555555555556,\"#d8576b\"],[0.6666666666666666,\"#ed7953\"],[0.7777777777777778,\"#fb9f3a\"],[0.8888888888888888,\"#fdca26\"],[1.0,\"#f0f921\"]]}],\"heatmapgl\":[{\"type\":\"heatmapgl\",\"colorbar\":{\"outlinewidth\":0,\"ticks\":\"\"},\"colorscale\":[[0.0,\"#0d0887\"],[0.1111111111111111,\"#46039f\"],[0.2222222222222222,\"#7201a8\"],[0.3333333333333333,\"#9c179e\"],[0.4444444444444444,\"#bd3786\"],[0.5555555555555556,\"#d8576b\"],[0.6666666666666666,\"#ed7953\"],[0.7777777777777778,\"#fb9f3a\"],[0.8888888888888888,\"#fdca26\"],[1.0,\"#f0f921\"]]}],\"contourcarpet\":[{\"type\":\"contourcarpet\",\"colorbar\":{\"outlinewidth\":0,\"ticks\":\"\"}}],\"contour\":[{\"type\":\"contour\",\"colorbar\":{\"outlinewidth\":0,\"ticks\":\"\"},\"colorscale\":[[0.0,\"#0d0887\"],[0.1111111111111111,\"#46039f\"],[0.2222222222222222,\"#7201a8\"],[0.3333333333333333,\"#9c179e\"],[0.4444444444444444,\"#bd3786\"],[0.5555555555555556,\"#d8576b\"],[0.6666666666666666,\"#ed7953\"],[0.7777777777777778,\"#fb9f3a\"],[0.8888888888888888,\"#fdca26\"],[1.0,\"#f0f921\"]]}],\"surface\":[{\"type\":\"surface\",\"colorbar\":{\"outlinewidth\":0,\"ticks\":\"\"},\"colorscale\":[[0.0,\"#0d0887\"],[0.1111111111111111,\"#46039f\"],[0.2222222222222222,\"#7201a8\"],[0.3333333333333333,\"#9c179e\"],[0.4444444444444444,\"#bd3786\"],[0.5555555555555556,\"#d8576b\"],[0.6666666666666666,\"#ed7953\"],[0.7777777777777778,\"#fb9f3a\"],[0.8888888888888888,\"#fdca26\"],[1.0,\"#f0f921\"]]}],\"mesh3d\":[{\"type\":\"mesh3d\",\"colorbar\":{\"outlinewidth\":0,\"ticks\":\"\"}}],\"scatter\":[{\"fillpattern\":{\"fillmode\":\"overlay\",\"size\":10,\"solidity\":0.2},\"type\":\"scatter\"}],\"parcoords\":[{\"type\":\"parcoords\",\"line\":{\"colorbar\":{\"outlinewidth\":0,\"ticks\":\"\"}}}],\"scatterpolargl\":[{\"type\":\"scatterpolargl\",\"marker\":{\"colorbar\":{\"outlinewidth\":0,\"ticks\":\"\"}}}],\"bar\":[{\"error_x\":{\"color\":\"#2a3f5f\"},\"error_y\":{\"color\":\"#2a3f5f\"},\"marker\":{\"line\":{\"color\":\"#E5ECF6\",\"width\":0.5},\"pattern\":{\"fillmode\":\"overlay\",\"size\":10,\"solidity\":0.2}},\"type\":\"bar\"}],\"scattergeo\":[{\"type\":\"scattergeo\",\"marker\":{\"colorbar\":{\"outlinewidth\":0,\"ticks\":\"\"}}}],\"scatterpolar\":[{\"type\":\"scatterpolar\",\"marker\":{\"colorbar\":{\"outlinewidth\":0,\"ticks\":\"\"}}}],\"histogram\":[{\"marker\":{\"pattern\":{\"fillmode\":\"overlay\",\"size\":10,\"solidity\":0.2}},\"type\":\"histogram\"}],\"scattergl\":[{\"type\":\"scattergl\",\"marker\":{\"colorbar\":{\"outlinewidth\":0,\"ticks\":\"\"}}}],\"scatter3d\":[{\"type\":\"scatter3d\",\"line\":{\"colorbar\":{\"outlinewidth\":0,\"ticks\":\"\"}},\"marker\":{\"colorbar\":{\"outlinewidth\":0,\"ticks\":\"\"}}}],\"scattermapbox\":[{\"type\":\"scattermapbox\",\"marker\":{\"colorbar\":{\"outlinewidth\":0,\"ticks\":\"\"}}}],\"scatterternary\":[{\"type\":\"scatterternary\",\"marker\":{\"colorbar\":{\"outlinewidth\":0,\"ticks\":\"\"}}}],\"scattercarpet\":[{\"type\":\"scattercarpet\",\"marker\":{\"colorbar\":{\"outlinewidth\":0,\"ticks\":\"\"}}}],\"carpet\":[{\"aaxis\":{\"endlinecolor\":\"#2a3f5f\",\"gridcolor\":\"white\",\"linecolor\":\"white\",\"minorgridcolor\":\"white\",\"startlinecolor\":\"#2a3f5f\"},\"baxis\":{\"endlinecolor\":\"#2a3f5f\",\"gridcolor\":\"white\",\"linecolor\":\"white\",\"minorgridcolor\":\"white\",\"startlinecolor\":\"#2a3f5f\"},\"type\":\"carpet\"}],\"table\":[{\"cells\":{\"fill\":{\"color\":\"#EBF0F8\"},\"line\":{\"color\":\"white\"}},\"header\":{\"fill\":{\"color\":\"#C8D4E3\"},\"line\":{\"color\":\"white\"}},\"type\":\"table\"}],\"barpolar\":[{\"marker\":{\"line\":{\"color\":\"#E5ECF6\",\"width\":0.5},\"pattern\":{\"fillmode\":\"overlay\",\"size\":10,\"solidity\":0.2}},\"type\":\"barpolar\"}],\"pie\":[{\"automargin\":true,\"type\":\"pie\"}]},\"layout\":{\"autotypenumbers\":\"strict\",\"colorway\":[\"#636efa\",\"#EF553B\",\"#00cc96\",\"#ab63fa\",\"#FFA15A\",\"#19d3f3\",\"#FF6692\",\"#B6E880\",\"#FF97FF\",\"#FECB52\"],\"font\":{\"color\":\"#2a3f5f\"},\"hovermode\":\"closest\",\"hoverlabel\":{\"align\":\"left\"},\"paper_bgcolor\":\"white\",\"plot_bgcolor\":\"#E5ECF6\",\"polar\":{\"bgcolor\":\"#E5ECF6\",\"angularaxis\":{\"gridcolor\":\"white\",\"linecolor\":\"white\",\"ticks\":\"\"},\"radialaxis\":{\"gridcolor\":\"white\",\"linecolor\":\"white\",\"ticks\":\"\"}},\"ternary\":{\"bgcolor\":\"#E5ECF6\",\"aaxis\":{\"gridcolor\":\"white\",\"linecolor\":\"white\",\"ticks\":\"\"},\"baxis\":{\"gridcolor\":\"white\",\"linecolor\":\"white\",\"ticks\":\"\"},\"caxis\":{\"gridcolor\":\"white\",\"linecolor\":\"white\",\"ticks\":\"\"}},\"coloraxis\":{\"colorbar\":{\"outlinewidth\":0,\"ticks\":\"\"}},\"colorscale\":{\"sequential\":[[0.0,\"#0d0887\"],[0.1111111111111111,\"#46039f\"],[0.2222222222222222,\"#7201a8\"],[0.3333333333333333,\"#9c179e\"],[0.4444444444444444,\"#bd3786\"],[0.5555555555555556,\"#d8576b\"],[0.6666666666666666,\"#ed7953\"],[0.7777777777777778,\"#fb9f3a\"],[0.8888888888888888,\"#fdca26\"],[1.0,\"#f0f921\"]],\"sequentialminus\":[[0.0,\"#0d0887\"],[0.1111111111111111,\"#46039f\"],[0.2222222222222222,\"#7201a8\"],[0.3333333333333333,\"#9c179e\"],[0.4444444444444444,\"#bd3786\"],[0.5555555555555556,\"#d8576b\"],[0.6666666666666666,\"#ed7953\"],[0.7777777777777778,\"#fb9f3a\"],[0.8888888888888888,\"#fdca26\"],[1.0,\"#f0f921\"]],\"diverging\":[[0,\"#8e0152\"],[0.1,\"#c51b7d\"],[0.2,\"#de77ae\"],[0.3,\"#f1b6da\"],[0.4,\"#fde0ef\"],[0.5,\"#f7f7f7\"],[0.6,\"#e6f5d0\"],[0.7,\"#b8e186\"],[0.8,\"#7fbc41\"],[0.9,\"#4d9221\"],[1,\"#276419\"]]},\"xaxis\":{\"gridcolor\":\"white\",\"linecolor\":\"white\",\"ticks\":\"\",\"title\":{\"standoff\":15},\"zerolinecolor\":\"white\",\"automargin\":true,\"zerolinewidth\":2},\"yaxis\":{\"gridcolor\":\"white\",\"linecolor\":\"white\",\"ticks\":\"\",\"title\":{\"standoff\":15},\"zerolinecolor\":\"white\",\"automargin\":true,\"zerolinewidth\":2},\"scene\":{\"xaxis\":{\"backgroundcolor\":\"#E5ECF6\",\"gridcolor\":\"white\",\"linecolor\":\"white\",\"showbackground\":true,\"ticks\":\"\",\"zerolinecolor\":\"white\",\"gridwidth\":2},\"yaxis\":{\"backgroundcolor\":\"#E5ECF6\",\"gridcolor\":\"white\",\"linecolor\":\"white\",\"showbackground\":true,\"ticks\":\"\",\"zerolinecolor\":\"white\",\"gridwidth\":2},\"zaxis\":{\"backgroundcolor\":\"#E5ECF6\",\"gridcolor\":\"white\",\"linecolor\":\"white\",\"showbackground\":true,\"ticks\":\"\",\"zerolinecolor\":\"white\",\"gridwidth\":2}},\"shapedefaults\":{\"line\":{\"color\":\"#2a3f5f\"}},\"annotationdefaults\":{\"arrowcolor\":\"#2a3f5f\",\"arrowhead\":0,\"arrowwidth\":1},\"geo\":{\"bgcolor\":\"white\",\"landcolor\":\"#E5ECF6\",\"subunitcolor\":\"white\",\"showland\":true,\"showlakes\":true,\"lakecolor\":\"white\"},\"title\":{\"x\":0.05},\"mapbox\":{\"style\":\"light\"}}}},                        {\"responsive\": true}                    ).then(function(){\n",
       "                            \n",
       "var gd = document.getElementById('7905bf7a-62ba-473d-a3a2-066093cb9c82');\n",
       "var x = new MutationObserver(function (mutations, observer) {{\n",
       "        var display = window.getComputedStyle(gd).display;\n",
       "        if (!display || display === 'none') {{\n",
       "            console.log([gd, 'removed!']);\n",
       "            Plotly.purge(gd);\n",
       "            observer.disconnect();\n",
       "        }}\n",
       "}});\n",
       "\n",
       "// Listen for the removal of the full notebook cells\n",
       "var notebookContainer = gd.closest('#notebook-container');\n",
       "if (notebookContainer) {{\n",
       "    x.observe(notebookContainer, {childList: true});\n",
       "}}\n",
       "\n",
       "// Listen for the clearing of the current output cell\n",
       "var outputEl = gd.closest('.output');\n",
       "if (outputEl) {{\n",
       "    x.observe(outputEl, {childList: true});\n",
       "}}\n",
       "\n",
       "                        })                };                });            </script>        </div>"
      ]
     },
     "metadata": {},
     "output_type": "display_data"
    }
   ],
   "source": [
    "\n",
    "import pandas as pd\n",
    "import numpy as np\n",
    "import plotly.graph_objs as go\n",
    "\n",
    "EL = CUM['Ethephon'].unique()\n",
    "G3 = CUM['3G '].unique()\n",
    "Yield = CUM['Yld/vine'].values\n",
    "\n",
    "X, Y = np.meshgrid(EL, G3)\n",
    "\n",
    "Z = CUM.pivot_table(index='3G ', columns='Ethephon', values='Yld/vine', aggfunc='mean').values\n",
    "\n",
    "trace = go.Surface(\n",
    "    z=Z,\n",
    "    x=X,\n",
    "    y=Y,\n",
    "    colorscale='Viridis',\n",
    "    colorbar=dict(title=\"Yld/vine\")\n",
    ")\n",
    "\n",
    "layout = go.Layout(\n",
    "    title='3D Surface Plot (Ethephon and 3G levels vs Yield/vine)',\n",
    "    scene=dict(\n",
    "        xaxis_title='Ethephon Treatment',\n",
    "        yaxis_title='3G Levels',\n",
    "        zaxis_title='Yield per Vine',\n",
    "        xaxis=dict(tickvals=np.arange(len(EL)), ticktext=EL),\n",
    "        yaxis=dict(tickvals=np.arange(len(G3)), ticktext=G3)\n",
    "    ),\n",
    "    width= 800,\n",
    "    height= 600,\n",
    "    \n",
    ")\n",
    "\n",
    "fig = go.Figure(data=[trace], layout=layout)\n",
    "fig.write_html(\"3d_ interactive of treatment and yield.html\")\n",
    "\n",
    "fig.show()\n",
    "\n"
   ]
  },
  {
   "cell_type": "code",
   "execution_count": null,
   "metadata": {},
   "outputs": [],
   "source": []
  }
 ],
 "metadata": {
  "kernelspec": {
   "display_name": "Python 3 (ipykernel)",
   "language": "python",
   "name": "python3"
  },
  "language_info": {
   "codemirror_mode": {
    "name": "ipython",
    "version": 3
   },
   "file_extension": ".py",
   "mimetype": "text/x-python",
   "name": "python",
   "nbconvert_exporter": "python",
   "pygments_lexer": "ipython3",
   "version": "3.10.5"
  }
 },
 "nbformat": 4,
 "nbformat_minor": 4
}
